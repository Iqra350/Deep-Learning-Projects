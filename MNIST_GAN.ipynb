{
  "cells": [
    {
      "cell_type": "markdown",
      "metadata": {
        "id": "7a4rTGCzUtEr"
      },
      "source": [
        "#Download the dataset"
      ]
    },
    {
      "cell_type": "markdown",
      "source": [
        "####Copyright https://jovian.ai/learn/deep-learning-with-pytorch-zero-to-gans"
      ],
      "metadata": {
        "id": "UEfHHIuajRcV"
      }
    },
    {
      "cell_type": "code",
      "execution_count": null,
      "metadata": {
        "id": "nTpUKO-bUl92"
      },
      "outputs": [],
      "source": [
        "import torch\n",
        "import torchvision\n",
        "from torchvision.transforms import ToTensor, Normalize, Compose\n",
        "from torchvision.datasets import MNIST\n",
        "\n",
        "mnist = MNIST(root='data', train=True,\n",
        "              download=True,\n",
        "              transform=Compose([ToTensor(),\n",
        "                                 Normalize(mean=(0.5,), std=(0.5,))]))"
      ]
    },
    {
      "cell_type": "code",
      "execution_count": null,
      "metadata": {
        "colab": {
          "base_uri": "https://localhost:8080/"
        },
        "id": "czqQux7dF3-l",
        "outputId": "46494bd4-24a8-43bb-df2d-c3fa641dbb8b"
      },
      "outputs": [
        {
          "name": "stdout",
          "output_type": "stream",
          "text": [
            "label: 5\n",
            "tensor([[[-0.9922,  0.2078,  0.9843, -0.2941, -1.0000],\n",
            "         [-1.0000,  0.0902,  0.9843,  0.4902, -0.9843],\n",
            "         [-1.0000, -0.9137,  0.4902,  0.9843, -0.4510],\n",
            "         [-1.0000, -1.0000, -0.7255,  0.8902,  0.7647],\n",
            "         [-1.0000, -1.0000, -1.0000, -0.3647,  0.8824]]])\n"
          ]
        },
        {
          "data": {
            "text/plain": [
              "(tensor(-1.), tensor(1.))"
            ]
          },
          "execution_count": 26,
          "metadata": {},
          "output_type": "execute_result"
        }
      ],
      "source": [
        "img, label = mnist[0]\n",
        "print('label:', label)\n",
        "print(img[:, 10:15, 10:15])\n",
        "torch.min(img), torch.max(img)"
      ]
    },
    {
      "cell_type": "code",
      "execution_count": null,
      "metadata": {
        "id": "F5WfGASTGHL1"
      },
      "outputs": [],
      "source": [
        "def denorm(x):\n",
        "  out = (x + 1) / 2\n",
        "  return out.clamp(0, 1)"
      ]
    },
    {
      "cell_type": "code",
      "execution_count": null,
      "metadata": {
        "colab": {
          "base_uri": "https://localhost:8080/",
          "height": 300
        },
        "id": "rXnnns76HpdJ",
        "outputId": "5621f038-2f3e-442f-88ba-82d704140e92"
      },
      "outputs": [
        {
          "name": "stdout",
          "output_type": "stream",
          "text": [
            "Label: 5\n"
          ]
        },
        {
          "data": {
            "text/plain": [
              "(torch.Size([1, 28, 28]), torch.Size([28, 28]))"
            ]
          },
          "execution_count": 28,
          "metadata": {},
          "output_type": "execute_result"
        },
        {
          "data": {
            "image/png": "[encoded data removed]",
            "text/plain": [
              "<Figure size 432x288 with 1 Axes>"
            ]
          },
          "metadata": {},
          "output_type": "display_data"
        }
      ],
      "source": [
        "import matplotlib.pyplot as plt\n",
        "%matplotlib inline\n",
        "\n",
        "img_norm = denorm(img)\n",
        "plt.imshow(img_norm[0], cmap='gray')\n",
        "print('Label:', label)\n",
        "img_norm.shape, img_norm[0].shape"
      ]
    },
    {
      "cell_type": "code",
      "execution_count": null,
      "metadata": {
        "id": "226GLqQeH_Zh"
      },
      "outputs": [],
      "source": [
        "from torch.utils.data import DataLoader\n",
        "batch_size = 100\n",
        "data_loader = DataLoader(mnist, batch_size, shuffle=True)"
      ]
    },
    {
      "cell_type": "code",
      "execution_count": null,
      "metadata": {
        "colab": {
          "base_uri": "https://localhost:8080/",
          "height": 407
        },
        "id": "LAFq9BfxJfor",
        "outputId": "c7c9bd36-f81d-42c6-93d2-8085014ca6d2"
      },
      "outputs": [
        {
          "name": "stdout",
          "output_type": "stream",
          "text": [
            "first_batch\n",
            "torch.Size([100, 1, 28, 28])\n",
            "tensor([0, 1, 3, 2, 6, 1, 0, 5, 4, 4, 6, 9, 7, 5, 3, 4, 3, 2, 6, 1, 2, 7, 6, 7,\n",
            "        2, 0, 3, 8, 4, 0, 0, 1, 7, 7, 8, 2, 1, 3, 9, 9, 1, 8, 5, 5, 5, 4, 1, 3,\n",
            "        4, 8, 4, 2, 6, 0, 3, 5, 8, 0, 2, 3, 8, 3, 2, 5, 5, 5, 0, 8, 0, 7, 0, 2,\n",
            "        7, 1, 9, 1, 9, 6, 1, 2, 2, 0, 2, 5, 6, 3, 7, 1, 8, 7, 0, 3, 1, 3, 0, 4,\n",
            "        7, 5, 2, 8])\n"
          ]
        },
        {
          "data": {
            "image/png": "[encoded data removed]",
            "text/plain": [
              "<Figure size 432x288 with 1 Axes>"
            ]
          },
          "metadata": {},
          "output_type": "display_data"
        }
      ],
      "source": [
        "for img_batch, label_batch in data_loader:\n",
        "  print('first_batch')\n",
        "  print(img_batch.shape)\n",
        "  plt.imshow(img_batch[0][0], cmap='gray')\n",
        "  print(label_batch)\n",
        "  break"
      ]
    },
    {
      "cell_type": "code",
      "execution_count": null,
      "metadata": {
        "id": "uw5xER6mKCAl"
      },
      "outputs": [],
      "source": [
        "#Device configuration\n",
        "device = torch.device('cuda' if torch.cuda.is_available() else 'cpu')"
      ]
    },
    {
      "cell_type": "code",
      "execution_count": null,
      "metadata": {
        "colab": {
          "base_uri": "https://localhost:8080/"
        },
        "id": "HkuPihHoLa35",
        "outputId": "2e3fee05-a313-4f9d-b52b-e48738897079"
      },
      "outputs": [
        {
          "data": {
            "text/plain": [
              "device(type='cpu')"
            ]
          },
          "execution_count": 32,
          "metadata": {},
          "output_type": "execute_result"
        }
      ],
      "source": [
        "device"
      ]
    },
    {
      "cell_type": "markdown",
      "metadata": {
        "id": "I_Jkl4tWLnPC"
      },
      "source": [
        "#Discrimintor Network"
      ]
    },
    {
      "cell_type": "code",
      "execution_count": null,
      "metadata": {
        "id": "Si3RX7iKLcEH"
      },
      "outputs": [],
      "source": [
        "image_size = 784\n",
        "hidden_size = 256"
      ]
    },
    {
      "cell_type": "code",
      "execution_count": null,
      "metadata": {
        "id": "x3sGONE6LxrJ"
      },
      "outputs": [],
      "source": [
        "import torch.nn as nn\n",
        "D = nn.Sequential(\n",
        "    nn.Linear(image_size, hidden_size),\n",
        "    nn.LeakyReLU(0.2),\n",
        "    nn.Linear(hidden_size, hidden_size),\n",
        "    nn.LeakyReLU(0.2),\n",
        "    nn.Linear(hidden_size, 1),\n",
        "    nn.Sigmoid()\n",
        ")"
      ]
    },
    {
      "cell_type": "code",
      "execution_count": null,
      "metadata": {
        "colab": {
          "base_uri": "https://localhost:8080/"
        },
        "id": "XQ3KwAq-MWIu",
        "outputId": "82b930ee-b229-4e8e-b62a-3c89fa78045c"
      },
      "outputs": [
        {
          "data": {
            "text/plain": [
              "Sequential(\n",
              "  (0): Linear(in_features=784, out_features=256, bias=True)\n",
              "  (1): LeakyReLU(negative_slope=0.2)\n",
              "  (2): Linear(in_features=256, out_features=256, bias=True)\n",
              "  (3): LeakyReLU(negative_slope=0.2)\n",
              "  (4): Linear(in_features=256, out_features=1, bias=True)\n",
              "  (5): Sigmoid()\n",
              ")"
            ]
          },
          "execution_count": 35,
          "metadata": {},
          "output_type": "execute_result"
        }
      ],
      "source": [
        "D.to(device)"
      ]
    },
    {
      "cell_type": "markdown",
      "metadata": {
        "id": "Z9Jue18FMebt"
      },
      "source": [
        "#Generator Network\n"
      ]
    },
    {
      "cell_type": "code",
      "execution_count": null,
      "metadata": {
        "id": "LFL8rGiXMcVW"
      },
      "outputs": [],
      "source": [
        "latent_size = 64"
      ]
    },
    {
      "cell_type": "code",
      "execution_count": null,
      "metadata": {
        "id": "TzSpD2eRMj75"
      },
      "outputs": [],
      "source": [
        "G = nn.Sequential(\n",
        "    nn.Linear(latent_size, hidden_size),\n",
        "    nn.ReLU(),\n",
        "    nn.Linear(hidden_size, hidden_size),\n",
        "    nn.ReLU(),\n",
        "    nn.Linear(hidden_size, image_size),\n",
        "    nn.Tanh()\n",
        "\n",
        ")"
      ]
    },
    {
      "cell_type": "code",
      "execution_count": null,
      "metadata": {
        "id": "92kgoeziQxBI"
      },
      "outputs": [],
      "source": [
        "#Generate random image using generator function\n",
        "y = G(torch.randn(2, latent_size))\n",
        "gen_imgs  = denorm(y.reshape((-1, 28, 28)).detach())"
      ]
    },
    {
      "cell_type": "code",
      "execution_count": null,
      "metadata": {
        "colab": {
          "base_uri": "https://localhost:8080/",
          "height": 282
        },
        "id": "JurxuTGXRNbQ",
        "outputId": "350315b1-e675-418e-cb1e-21d42ad6e5ca"
      },
      "outputs": [
        {
          "data": {
            "text/plain": [
              "<matplotlib.image.AxesImage at 0x7f4bf512c590>"
            ]
          },
          "execution_count": 39,
          "metadata": {},
          "output_type": "execute_result"
        },
        {
          "data": {
            "image/png": "[encoded data removed]",
            "text/plain": [
              "<Figure size 432x288 with 1 Axes>"
            ]
          },
          "metadata": {},
          "output_type": "display_data"
        }
      ],
      "source": [
        "plt.imshow(gen_imgs[0], cmap='gray')"
      ]
    },
    {
      "cell_type": "code",
      "execution_count": null,
      "metadata": {
        "colab": {
          "base_uri": "https://localhost:8080/",
          "height": 282
        },
        "id": "kPTVn_vxRTHi",
        "outputId": "1f84dfc5-1187-4fb2-d921-4b75fb1a59b6"
      },
      "outputs": [
        {
          "data": {
            "text/plain": [
              "<matplotlib.image.AxesImage at 0x7f4bf510e9d0>"
            ]
          },
          "execution_count": 40,
          "metadata": {},
          "output_type": "execute_result"
        },
        {
          "data": {
            "image/png": "[encoded data removed]",
            "text/plain": [
              "<Figure size 432x288 with 1 Axes>"
            ]
          },
          "metadata": {},
          "output_type": "display_data"
        }
      ],
      "source": [
        "plt.imshow(gen_imgs[1], cmap='gray')"
      ]
    },
    {
      "cell_type": "code",
      "execution_count": null,
      "metadata": {
        "colab": {
          "base_uri": "https://localhost:8080/"
        },
        "id": "xoD1_UDURbbo",
        "outputId": "f65deb1f-8a23-45e3-a79e-d3c5452b3eae"
      },
      "outputs": [
        {
          "data": {
            "text/plain": [
              "Sequential(\n",
              "  (0): Linear(in_features=784, out_features=256, bias=True)\n",
              "  (1): LeakyReLU(negative_slope=0.2)\n",
              "  (2): Linear(in_features=256, out_features=256, bias=True)\n",
              "  (3): LeakyReLU(negative_slope=0.2)\n",
              "  (4): Linear(in_features=256, out_features=1, bias=True)\n",
              "  (5): Sigmoid()\n",
              ")"
            ]
          },
          "execution_count": 41,
          "metadata": {},
          "output_type": "execute_result"
        }
      ],
      "source": [
        "G.to(device)\n",
        "D.to(device)"
      ]
    },
    {
      "cell_type": "markdown",
      "metadata": {
        "id": "VTlw5IVrRgpy"
      },
      "source": [
        "#Training the discriminator"
      ]
    },
    {
      "cell_type": "code",
      "execution_count": null,
      "metadata": {
        "id": "C_1IBYtBRfiP"
      },
      "outputs": [],
      "source": [
        "criterion = nn.BCELoss()\n",
        "d_optimizer = torch.optim.Adam(D.parameters(), lr=0.0002)\n",
        "#g_optimizer = torch.optim.Adam(G.parameters(), lr=0.0002)"
      ]
    },
    {
      "cell_type": "code",
      "execution_count": null,
      "metadata": {
        "id": "Xl9dLNfuRzJ0"
      },
      "outputs": [],
      "source": [
        "def reset_grads():\n",
        "  d_optimizer.zero_grad()\n",
        "  g_optimizer.zero_grad()\n",
        "\n",
        "def train_discriminator(images):\n",
        "  real_labels = torch.ones(batch_size, 1).to(device)\n",
        "  fake_labels = torch.zeros(batch_size, 1).to(device)\n",
        "\n",
        "  #Loss for real images \n",
        "  outputs = D(images)\n",
        "  d_loss_real = criterion(outputs, real_labels)\n",
        "  real_score = outputs\n",
        "\n",
        "  #Loss for fake images\n",
        "  z = torch.randn(batch_size, latent_size).to(device)\n",
        "  fake_images = G(z)\n",
        "  outputs = D(fake_images)\n",
        "  d_loss_fake = criterion(outputs, fake_labels)\n",
        "  fake_score = outputs\n",
        "\n",
        "  #Combine the loss\n",
        "  d_loss = d_loss_real + d_loss_fake\n",
        "  #Reset the gradient\n",
        "  reset_grads()\n",
        "  #Compute the gradients\n",
        "  d_loss.backward()\n",
        "  #Adjust the parameters using backprop\n",
        "  d_optimizer.step()\n",
        "  return d_loss, real_score, fake_score\n",
        "\n"
      ]
    },
    {
      "cell_type": "code",
      "execution_count": null,
      "metadata": {
        "id": "KukS3Rzfxm0p"
      },
      "outputs": [],
      "source": [
        "g_optimizer = torch.optim.Adam(G.parameters(), lr=0.0002)"
      ]
    },
    {
      "cell_type": "markdown",
      "metadata": {
        "id": "h_-b0lMqVFXJ"
      },
      "source": [
        "#Generator training"
      ]
    },
    {
      "cell_type": "code",
      "execution_count": null,
      "metadata": {
        "id": "XP0uhdhOVDMN"
      },
      "outputs": [],
      "source": [
        "def train_generator():\n",
        "  z = torch.randn(batch_size, latent_size).to(device)\n",
        "  fake_images = G(z)\n",
        "  labels = torch.ones(batch_size, 1).to(device)\n",
        "  g_loss = criterion(D(fake_images), labels)\n",
        "\n",
        "  #Backpropogation and optimization\n",
        "  reset_grads()\n",
        "  g_loss.backward()\n",
        "  g_optimizer.step()\n",
        "  return g_loss, fake_images"
      ]
    },
    {
      "cell_type": "markdown",
      "metadata": {
        "id": "Xe3hxn8yWq8b"
      },
      "source": [
        "#Training the model\n"
      ]
    },
    {
      "cell_type": "code",
      "execution_count": null,
      "metadata": {
        "id": "l9IvvL7QWqIO"
      },
      "outputs": [],
      "source": [
        "import os\n",
        "sample_dir = 'samples'\n",
        "if not os.path.exists(sample_dir):\n",
        "  os.makedirs(sample_dir)"
      ]
    },
    {
      "cell_type": "code",
      "execution_count": null,
      "metadata": {
        "colab": {
          "base_uri": "https://localhost:8080/",
          "height": 41
        },
        "id": "xdyDuwTEW7Bv",
        "outputId": "6b52d129-5279-4022-ec7e-ab17ca95f315"
      },
      "outputs": [
        {
          "data": {
            "image/png": "samples/real_image.png",
            "text/plain": [
              "<IPython.core.display.Image object>"
            ]
          },
          "execution_count": 47,
          "metadata": {},
          "output_type": "execute_result"
        }
      ],
      "source": [
        "from IPython.display import Image\n",
        "from torchvision.utils import save_image\n",
        "#Save some real images\n",
        "for images, _ in data_loader:\n",
        "  images = images.reshape(images.size(0), 1, 28, 28)\n",
        "  save_image(denorm(images), os.path.join(sample_dir, 'real_images.png'), nrow=10)\n",
        "  break\n",
        "Image(os.path.join(sample_dir, 'real_image.png'))"
      ]
    },
    {
      "cell_type": "markdown",
      "metadata": {
        "id": "sCA3UbyIYKid"
      },
      "source": [
        "#Save fake images\n"
      ]
    },
    {
      "cell_type": "code",
      "execution_count": null,
      "metadata": {
        "colab": {
          "base_uri": "https://localhost:8080/",
          "height": 58
        },
        "id": "TcKOLG8bXuJA",
        "outputId": "8168b705-fa61-49de-f6b4-bb10a88e7a23"
      },
      "outputs": [
        {
          "name": "stdout",
          "output_type": "stream",
          "text": [
            "Saving fake_images-0000.png\n"
          ]
        },
        {
          "data": {
            "image/png": "samples/fake_images-000.png",
            "text/plain": [
              "<IPython.core.display.Image object>"
            ]
          },
          "execution_count": 48,
          "metadata": {},
          "output_type": "execute_result"
        }
      ],
      "source": [
        "sample_vectors = torch.randn(batch_size, latent_size).to(device)\n",
        "\n",
        "def save_fake_images(index):\n",
        "  fake_images = G(sample_vectors)\n",
        "  fake__images = fake_images.reshape(fake_images.size(0), 1, 28,28)\n",
        "  fake_name = 'fake_images-{0:0=4d}.png'.format(index)\n",
        "  print('Saving', fake_name)\n",
        "  save_image(denorm(fake_images), os.path.join(sample_dir, fake_name), nrow=10)\n",
        "\n",
        "  #Before training\n",
        "save_fake_images(0)\n",
        "Image(os.path.join(sample_dir, 'fake_images-000.png'))"
      ]
    },
    {
      "cell_type": "code",
      "execution_count": null,
      "metadata": {
        "colab": {
          "background_save": true,
          "base_uri": "https://localhost:8080/"
        },
        "id": "OlnCHOvPaG3e",
        "outputId": "09ec505c-3c2f-4607-8b0c-2317a54a8e85"
      },
      "outputs": [
        {
          "name": "stdout",
          "output_type": "stream",
          "text": [
            "Epoch [0/300], Step [200/600], d_loss: 0.0563, g_loss: 4.2154, D(x): 0.98, D(G(z)): 0.04\n",
            "Epoch [0/300], Step [400/600], d_loss: 0.0772, g_loss: 5.3561, D(x): 0.98, D(G(z)): 0.05\n",
            "Epoch [0/300], Step [600/600], d_loss: 0.0461, g_loss: 4.8376, D(x): 0.98, D(G(z)): 0.02\n",
            "Saving fake_images-0001.png\n",
            "Epoch [1/300], Step [200/600], d_loss: 0.0437, g_loss: 4.7652, D(x): 0.98, D(G(z)): 0.02\n",
            "Epoch [1/300], Step [400/600], d_loss: 0.1360, g_loss: 5.0866, D(x): 0.98, D(G(z)): 0.10\n",
            "Epoch [1/300], Step [600/600], d_loss: 0.8528, g_loss: 3.3303, D(x): 0.94, D(G(z)): 0.52\n",
            "Saving fake_images-0002.png\n",
            "Epoch [2/300], Step [200/600], d_loss: 0.2224, g_loss: 4.3491, D(x): 0.91, D(G(z)): 0.05\n",
            "Epoch [2/300], Step [400/600], d_loss: 0.2815, g_loss: 3.8578, D(x): 0.93, D(G(z)): 0.12\n",
            "Epoch [2/300], Step [600/600], d_loss: 0.3567, g_loss: 4.1044, D(x): 0.87, D(G(z)): 0.10\n",
            "Saving fake_images-0003.png\n",
            "Epoch [3/300], Step [200/600], d_loss: 1.0205, g_loss: 1.4637, D(x): 0.75, D(G(z)): 0.37\n",
            "Epoch [3/300], Step [400/600], d_loss: 0.2767, g_loss: 4.0804, D(x): 0.94, D(G(z)): 0.16\n",
            "Epoch [3/300], Step [600/600], d_loss: 0.4300, g_loss: 3.1334, D(x): 0.90, D(G(z)): 0.21\n",
            "Saving fake_images-0004.png\n",
            "Epoch [4/300], Step [200/600], d_loss: 0.3917, g_loss: 3.6182, D(x): 0.88, D(G(z)): 0.16\n",
            "Epoch [4/300], Step [400/600], d_loss: 0.4347, g_loss: 2.8675, D(x): 0.90, D(G(z)): 0.23\n",
            "Epoch [4/300], Step [600/600], d_loss: 0.1778, g_loss: 3.5340, D(x): 0.92, D(G(z)): 0.05\n",
            "Saving fake_images-0005.png\n",
            "Epoch [5/300], Step [200/600], d_loss: 0.3173, g_loss: 3.6500, D(x): 0.91, D(G(z)): 0.12\n",
            "Epoch [5/300], Step [400/600], d_loss: 0.3185, g_loss: 4.4872, D(x): 0.91, D(G(z)): 0.09\n",
            "Epoch [5/300], Step [600/600], d_loss: 0.1312, g_loss: 3.4022, D(x): 0.96, D(G(z)): 0.08\n",
            "Saving fake_images-0006.png\n",
            "Epoch [6/300], Step [200/600], d_loss: 0.1137, g_loss: 4.1576, D(x): 0.97, D(G(z)): 0.07\n",
            "Epoch [6/300], Step [400/600], d_loss: 0.2419, g_loss: 4.2355, D(x): 0.90, D(G(z)): 0.03\n",
            "Epoch [6/300], Step [600/600], d_loss: 0.1298, g_loss: 3.9713, D(x): 0.96, D(G(z)): 0.04\n",
            "Saving fake_images-0007.png\n",
            "Epoch [7/300], Step [200/600], d_loss: 0.2211, g_loss: 5.0247, D(x): 0.98, D(G(z)): 0.16\n",
            "Epoch [7/300], Step [400/600], d_loss: 0.0788, g_loss: 3.8949, D(x): 0.97, D(G(z)): 0.04\n",
            "Epoch [7/300], Step [600/600], d_loss: 0.0552, g_loss: 7.0276, D(x): 0.97, D(G(z)): 0.01\n",
            "Saving fake_images-0008.png\n",
            "Epoch [8/300], Step [200/600], d_loss: 0.2105, g_loss: 5.8691, D(x): 0.93, D(G(z)): 0.03\n",
            "Epoch [8/300], Step [400/600], d_loss: 0.0691, g_loss: 6.8652, D(x): 0.96, D(G(z)): 0.01\n",
            "Epoch [8/300], Step [600/600], d_loss: 0.0910, g_loss: 5.3646, D(x): 0.96, D(G(z)): 0.02\n",
            "Saving fake_images-0009.png\n",
            "Epoch [9/300], Step [200/600], d_loss: 0.0885, g_loss: 4.5447, D(x): 0.97, D(G(z)): 0.03\n",
            "Epoch [9/300], Step [400/600], d_loss: 0.1464, g_loss: 5.2597, D(x): 0.97, D(G(z)): 0.02\n",
            "Epoch [9/300], Step [600/600], d_loss: 0.2716, g_loss: 5.7998, D(x): 0.97, D(G(z)): 0.13\n",
            "Saving fake_images-0010.png\n",
            "Epoch [10/300], Step [200/600], d_loss: 0.0265, g_loss: 3.9091, D(x): 0.99, D(G(z)): 0.02\n",
            "Epoch [10/300], Step [400/600], d_loss: 0.0481, g_loss: 6.6029, D(x): 0.99, D(G(z)): 0.03\n",
            "Epoch [10/300], Step [600/600], d_loss: 0.2422, g_loss: 3.9027, D(x): 0.96, D(G(z)): 0.12\n",
            "Saving fake_images-0011.png\n",
            "Epoch [11/300], Step [200/600], d_loss: 0.0220, g_loss: 7.1610, D(x): 0.99, D(G(z)): 0.01\n",
            "Epoch [11/300], Step [400/600], d_loss: 0.1529, g_loss: 5.9202, D(x): 0.97, D(G(z)): 0.04\n",
            "Epoch [11/300], Step [600/600], d_loss: 0.2066, g_loss: 5.7576, D(x): 0.93, D(G(z)): 0.02\n",
            "Saving fake_images-0012.png\n",
            "Epoch [12/300], Step [200/600], d_loss: 0.2193, g_loss: 4.6107, D(x): 0.97, D(G(z)): 0.12\n",
            "Epoch [12/300], Step [400/600], d_loss: 0.1690, g_loss: 6.7437, D(x): 0.93, D(G(z)): 0.02\n",
            "Epoch [12/300], Step [600/600], d_loss: 0.1511, g_loss: 5.8500, D(x): 0.94, D(G(z)): 0.01\n",
            "Saving fake_images-0013.png\n",
            "Epoch [13/300], Step [200/600], d_loss: 0.2364, g_loss: 3.8777, D(x): 0.93, D(G(z)): 0.04\n",
            "Epoch [13/300], Step [400/600], d_loss: 0.1651, g_loss: 4.7146, D(x): 0.96, D(G(z)): 0.06\n",
            "Epoch [13/300], Step [600/600], d_loss: 0.2134, g_loss: 3.7719, D(x): 0.93, D(G(z)): 0.02\n",
            "Saving fake_images-0014.png\n",
            "Epoch [14/300], Step [200/600], d_loss: 0.1370, g_loss: 4.8015, D(x): 0.96, D(G(z)): 0.02\n",
            "Epoch [14/300], Step [400/600], d_loss: 0.3653, g_loss: 4.5282, D(x): 0.91, D(G(z)): 0.07\n",
            "Epoch [14/300], Step [600/600], d_loss: 0.2777, g_loss: 7.0334, D(x): 0.94, D(G(z)): 0.09\n",
            "Saving fake_images-0015.png\n",
            "Epoch [15/300], Step [200/600], d_loss: 0.7243, g_loss: 5.6887, D(x): 0.81, D(G(z)): 0.01\n",
            "Epoch [15/300], Step [400/600], d_loss: 0.1338, g_loss: 5.2391, D(x): 0.94, D(G(z)): 0.02\n",
            "Epoch [15/300], Step [600/600], d_loss: 0.2860, g_loss: 6.0917, D(x): 0.93, D(G(z)): 0.07\n",
            "Saving fake_images-0016.png\n",
            "Epoch [16/300], Step [200/600], d_loss: 0.1282, g_loss: 4.7058, D(x): 0.94, D(G(z)): 0.02\n",
            "Epoch [16/300], Step [400/600], d_loss: 0.2657, g_loss: 6.2747, D(x): 0.90, D(G(z)): 0.02\n",
            "Epoch [16/300], Step [600/600], d_loss: 0.1769, g_loss: 5.4475, D(x): 0.95, D(G(z)): 0.04\n",
            "Saving fake_images-0017.png\n",
            "Epoch [17/300], Step [200/600], d_loss: 0.4147, g_loss: 5.0004, D(x): 0.90, D(G(z)): 0.10\n",
            "Epoch [17/300], Step [400/600], d_loss: 0.1960, g_loss: 4.3178, D(x): 0.93, D(G(z)): 0.06\n",
            "Epoch [17/300], Step [600/600], d_loss: 0.2117, g_loss: 5.3830, D(x): 0.95, D(G(z)): 0.07\n",
            "Saving fake_images-0018.png\n",
            "Epoch [18/300], Step [200/600], d_loss: 0.1514, g_loss: 4.9532, D(x): 0.96, D(G(z)): 0.04\n",
            "Epoch [18/300], Step [400/600], d_loss: 0.5196, g_loss: 5.8202, D(x): 0.83, D(G(z)): 0.01\n",
            "Epoch [18/300], Step [600/600], d_loss: 0.2470, g_loss: 5.3704, D(x): 0.94, D(G(z)): 0.06\n",
            "Saving fake_images-0019.png\n",
            "Epoch [19/300], Step [200/600], d_loss: 0.5401, g_loss: 5.8956, D(x): 0.88, D(G(z)): 0.04\n",
            "Epoch [19/300], Step [400/600], d_loss: 0.2109, g_loss: 5.8218, D(x): 0.91, D(G(z)): 0.04\n",
            "Epoch [19/300], Step [600/600], d_loss: 0.0999, g_loss: 5.9628, D(x): 0.96, D(G(z)): 0.04\n",
            "Saving fake_images-0020.png\n",
            "Epoch [20/300], Step [200/600], d_loss: 0.2803, g_loss: 4.5869, D(x): 0.95, D(G(z)): 0.08\n",
            "Epoch [20/300], Step [400/600], d_loss: 0.1641, g_loss: 4.8558, D(x): 0.93, D(G(z)): 0.04\n",
            "Epoch [20/300], Step [600/600], d_loss: 0.5707, g_loss: 6.4509, D(x): 0.84, D(G(z)): 0.01\n",
            "Saving fake_images-0021.png\n",
            "Epoch [21/300], Step [200/600], d_loss: 0.2523, g_loss: 4.8765, D(x): 0.95, D(G(z)): 0.12\n",
            "Epoch [21/300], Step [400/600], d_loss: 0.2381, g_loss: 4.7964, D(x): 0.91, D(G(z)): 0.03\n",
            "Epoch [21/300], Step [600/600], d_loss: 0.2041, g_loss: 5.6568, D(x): 0.93, D(G(z)): 0.03\n",
            "Saving fake_images-0022.png\n",
            "Epoch [22/300], Step [200/600], d_loss: 0.1816, g_loss: 5.2773, D(x): 0.93, D(G(z)): 0.03\n",
            "Epoch [22/300], Step [400/600], d_loss: 0.3579, g_loss: 4.5479, D(x): 0.91, D(G(z)): 0.11\n",
            "Epoch [22/300], Step [600/600], d_loss: 0.3752, g_loss: 3.8761, D(x): 0.87, D(G(z)): 0.06\n",
            "Saving fake_images-0023.png\n",
            "Epoch [23/300], Step [200/600], d_loss: 0.2873, g_loss: 4.7031, D(x): 0.90, D(G(z)): 0.07\n",
            "Epoch [23/300], Step [400/600], d_loss: 0.1989, g_loss: 4.3612, D(x): 0.95, D(G(z)): 0.07\n",
            "Epoch [23/300], Step [600/600], d_loss: 0.3377, g_loss: 3.4215, D(x): 0.87, D(G(z)): 0.06\n",
            "Saving fake_images-0024.png\n",
            "Epoch [24/300], Step [200/600], d_loss: 0.3466, g_loss: 5.3556, D(x): 0.90, D(G(z)): 0.08\n",
            "Epoch [24/300], Step [400/600], d_loss: 0.2948, g_loss: 3.1583, D(x): 0.90, D(G(z)): 0.05\n",
            "Epoch [24/300], Step [600/600], d_loss: 0.3290, g_loss: 4.1222, D(x): 0.91, D(G(z)): 0.12\n",
            "Saving fake_images-0025.png\n",
            "Epoch [25/300], Step [200/600], d_loss: 0.2271, g_loss: 3.8615, D(x): 0.96, D(G(z)): 0.13\n",
            "Epoch [25/300], Step [400/600], d_loss: 0.1750, g_loss: 4.5614, D(x): 0.96, D(G(z)): 0.08\n",
            "Epoch [25/300], Step [600/600], d_loss: 0.5465, g_loss: 3.8416, D(x): 0.91, D(G(z)): 0.22\n",
            "Saving fake_images-0026.png\n",
            "Epoch [26/300], Step [200/600], d_loss: 0.2389, g_loss: 4.2000, D(x): 0.92, D(G(z)): 0.07\n",
            "Epoch [26/300], Step [400/600], d_loss: 0.4148, g_loss: 3.2518, D(x): 0.89, D(G(z)): 0.13\n",
            "Epoch [26/300], Step [600/600], d_loss: 0.2959, g_loss: 4.0653, D(x): 0.91, D(G(z)): 0.11\n",
            "Saving fake_images-0027.png\n",
            "Epoch [27/300], Step [200/600], d_loss: 0.3282, g_loss: 3.5459, D(x): 0.89, D(G(z)): 0.07\n",
            "Epoch [27/300], Step [400/600], d_loss: 0.2005, g_loss: 4.2686, D(x): 0.93, D(G(z)): 0.07\n",
            "Epoch [27/300], Step [600/600], d_loss: 0.4206, g_loss: 4.1232, D(x): 0.85, D(G(z)): 0.07\n",
            "Saving fake_images-0028.png\n",
            "Epoch [28/300], Step [200/600], d_loss: 0.4198, g_loss: 3.9495, D(x): 0.92, D(G(z)): 0.17\n",
            "Epoch [28/300], Step [400/600], d_loss: 0.3880, g_loss: 3.2127, D(x): 0.89, D(G(z)): 0.15\n",
            "Epoch [28/300], Step [600/600], d_loss: 0.3731, g_loss: 4.5768, D(x): 0.85, D(G(z)): 0.03\n",
            "Saving fake_images-0029.png\n",
            "Epoch [29/300], Step [200/600], d_loss: 0.4583, g_loss: 3.3919, D(x): 0.85, D(G(z)): 0.10\n",
            "Epoch [29/300], Step [400/600], d_loss: 0.3887, g_loss: 1.8559, D(x): 0.88, D(G(z)): 0.15\n",
            "Epoch [29/300], Step [600/600], d_loss: 0.3653, g_loss: 3.7710, D(x): 0.86, D(G(z)): 0.08\n",
            "Saving fake_images-0030.png\n",
            "Epoch [30/300], Step [200/600], d_loss: 0.7306, g_loss: 3.2198, D(x): 0.83, D(G(z)): 0.22\n",
            "Epoch [30/300], Step [400/600], d_loss: 0.5399, g_loss: 3.0827, D(x): 0.82, D(G(z)): 0.12\n",
            "Epoch [30/300], Step [600/600], d_loss: 0.4002, g_loss: 2.9338, D(x): 0.85, D(G(z)): 0.08\n",
            "Saving fake_images-0031.png\n",
            "Epoch [31/300], Step [200/600], d_loss: 0.3387, g_loss: 3.8898, D(x): 0.90, D(G(z)): 0.10\n",
            "Epoch [31/300], Step [400/600], d_loss: 0.7415, g_loss: 3.1659, D(x): 0.77, D(G(z)): 0.10\n",
            "Epoch [31/300], Step [600/600], d_loss: 0.3488, g_loss: 3.3863, D(x): 0.90, D(G(z)): 0.15\n",
            "Saving fake_images-0032.png\n",
            "Epoch [32/300], Step [200/600], d_loss: 0.5879, g_loss: 3.3902, D(x): 0.80, D(G(z)): 0.13\n",
            "Epoch [32/300], Step [400/600], d_loss: 0.5252, g_loss: 3.2161, D(x): 0.79, D(G(z)): 0.05\n",
            "Epoch [32/300], Step [600/600], d_loss: 0.4480, g_loss: 2.5985, D(x): 0.89, D(G(z)): 0.19\n",
            "Saving fake_images-0033.png\n",
            "Epoch [33/300], Step [200/600], d_loss: 0.5801, g_loss: 3.5294, D(x): 0.80, D(G(z)): 0.15\n",
            "Epoch [33/300], Step [400/600], d_loss: 0.6676, g_loss: 2.6088, D(x): 0.81, D(G(z)): 0.19\n",
            "Epoch [33/300], Step [600/600], d_loss: 0.3203, g_loss: 2.8982, D(x): 0.93, D(G(z)): 0.17\n",
            "Saving fake_images-0034.png\n",
            "Epoch [34/300], Step [200/600], d_loss: 0.4668, g_loss: 3.1957, D(x): 0.84, D(G(z)): 0.14\n",
            "Epoch [34/300], Step [400/600], d_loss: 0.3368, g_loss: 3.3322, D(x): 0.88, D(G(z)): 0.09\n",
            "Epoch [34/300], Step [600/600], d_loss: 0.2625, g_loss: 3.5453, D(x): 0.89, D(G(z)): 0.09\n",
            "Saving fake_images-0035.png\n",
            "Epoch [35/300], Step [200/600], d_loss: 0.4161, g_loss: 2.8925, D(x): 0.90, D(G(z)): 0.17\n",
            "Epoch [35/300], Step [400/600], d_loss: 0.4641, g_loss: 3.0976, D(x): 0.85, D(G(z)): 0.13\n",
            "Epoch [35/300], Step [600/600], d_loss: 0.4581, g_loss: 4.1010, D(x): 0.80, D(G(z)): 0.05\n",
            "Saving fake_images-0036.png\n",
            "Epoch [36/300], Step [200/600], d_loss: 0.2887, g_loss: 4.0473, D(x): 0.87, D(G(z)): 0.07\n",
            "Epoch [36/300], Step [400/600], d_loss: 0.3580, g_loss: 4.4002, D(x): 0.87, D(G(z)): 0.07\n",
            "Epoch [36/300], Step [600/600], d_loss: 0.4418, g_loss: 4.3092, D(x): 0.85, D(G(z)): 0.12\n",
            "Saving fake_images-0037.png\n",
            "Epoch [37/300], Step [200/600], d_loss: 0.5759, g_loss: 3.3539, D(x): 0.78, D(G(z)): 0.06\n",
            "Epoch [37/300], Step [400/600], d_loss: 0.5090, g_loss: 2.1456, D(x): 0.83, D(G(z)): 0.12\n",
            "Epoch [37/300], Step [600/600], d_loss: 0.4539, g_loss: 3.3967, D(x): 0.85, D(G(z)): 0.11\n",
            "Saving fake_images-0038.png\n",
            "Epoch [38/300], Step [200/600], d_loss: 0.5723, g_loss: 2.9858, D(x): 0.82, D(G(z)): 0.16\n",
            "Epoch [38/300], Step [400/600], d_loss: 0.4413, g_loss: 2.5277, D(x): 0.89, D(G(z)): 0.20\n",
            "Epoch [38/300], Step [600/600], d_loss: 0.2793, g_loss: 3.3472, D(x): 0.89, D(G(z)): 0.08\n",
            "Saving fake_images-0039.png\n",
            "Epoch [39/300], Step [200/600], d_loss: 0.4773, g_loss: 2.5496, D(x): 0.80, D(G(z)): 0.07\n",
            "Epoch [39/300], Step [400/600], d_loss: 0.4905, g_loss: 2.9340, D(x): 0.84, D(G(z)): 0.12\n",
            "Epoch [39/300], Step [600/600], d_loss: 0.4103, g_loss: 3.2029, D(x): 0.89, D(G(z)): 0.19\n",
            "Saving fake_images-0040.png\n",
            "Epoch [40/300], Step [200/600], d_loss: 0.4078, g_loss: 3.0957, D(x): 0.87, D(G(z)): 0.11\n",
            "Epoch [40/300], Step [400/600], d_loss: 0.4277, g_loss: 2.6033, D(x): 0.88, D(G(z)): 0.16\n",
            "Epoch [40/300], Step [600/600], d_loss: 0.6399, g_loss: 4.0042, D(x): 0.82, D(G(z)): 0.18\n",
            "Saving fake_images-0041.png\n",
            "Epoch [41/300], Step [200/600], d_loss: 0.5691, g_loss: 2.6756, D(x): 0.82, D(G(z)): 0.11\n",
            "Epoch [41/300], Step [400/600], d_loss: 0.6186, g_loss: 2.5682, D(x): 0.87, D(G(z)): 0.25\n",
            "Epoch [41/300], Step [600/600], d_loss: 0.5143, g_loss: 2.8274, D(x): 0.85, D(G(z)): 0.16\n",
            "Saving fake_images-0042.png\n",
            "Epoch [42/300], Step [200/600], d_loss: 0.6042, g_loss: 2.3586, D(x): 0.83, D(G(z)): 0.20\n",
            "Epoch [42/300], Step [400/600], d_loss: 0.4942, g_loss: 2.5126, D(x): 0.85, D(G(z)): 0.17\n",
            "Epoch [42/300], Step [600/600], d_loss: 0.3908, g_loss: 2.7444, D(x): 0.88, D(G(z)): 0.15\n",
            "Saving fake_images-0043.png\n",
            "Epoch [43/300], Step [200/600], d_loss: 0.7720, g_loss: 2.8310, D(x): 0.78, D(G(z)): 0.24\n",
            "Epoch [43/300], Step [400/600], d_loss: 0.7387, g_loss: 2.2058, D(x): 0.90, D(G(z)): 0.33\n",
            "Epoch [43/300], Step [600/600], d_loss: 0.6653, g_loss: 2.8648, D(x): 0.81, D(G(z)): 0.21\n",
            "Saving fake_images-0044.png\n",
            "Epoch [44/300], Step [200/600], d_loss: 0.3692, g_loss: 3.0082, D(x): 0.86, D(G(z)): 0.13\n",
            "Epoch [44/300], Step [400/600], d_loss: 0.4139, g_loss: 2.9855, D(x): 0.83, D(G(z)): 0.11\n",
            "Epoch [44/300], Step [600/600], d_loss: 0.4420, g_loss: 3.1916, D(x): 0.87, D(G(z)): 0.17\n",
            "Saving fake_images-0045.png\n",
            "Epoch [45/300], Step [200/600], d_loss: 0.6293, g_loss: 2.8246, D(x): 0.83, D(G(z)): 0.21\n",
            "Epoch [45/300], Step [400/600], d_loss: 0.5139, g_loss: 2.2979, D(x): 0.83, D(G(z)): 0.16\n",
            "Epoch [45/300], Step [600/600], d_loss: 0.4583, g_loss: 3.1120, D(x): 0.89, D(G(z)): 0.16\n",
            "Saving fake_images-0046.png\n",
            "Epoch [46/300], Step [200/600], d_loss: 0.6569, g_loss: 2.3354, D(x): 0.85, D(G(z)): 0.27\n",
            "Epoch [46/300], Step [400/600], d_loss: 0.4644, g_loss: 2.5782, D(x): 0.83, D(G(z)): 0.14\n",
            "Epoch [46/300], Step [600/600], d_loss: 0.3805, g_loss: 2.7934, D(x): 0.91, D(G(z)): 0.18\n",
            "Saving fake_images-0047.png\n",
            "Epoch [47/300], Step [200/600], d_loss: 0.3895, g_loss: 3.1066, D(x): 0.90, D(G(z)): 0.17\n",
            "Epoch [47/300], Step [400/600], d_loss: 0.5106, g_loss: 2.7012, D(x): 0.87, D(G(z)): 0.20\n",
            "Epoch [47/300], Step [600/600], d_loss: 0.6444, g_loss: 2.7152, D(x): 0.76, D(G(z)): 0.11\n",
            "Saving fake_images-0048.png\n",
            "Epoch [48/300], Step [200/600], d_loss: 0.4053, g_loss: 3.8080, D(x): 0.86, D(G(z)): 0.09\n",
            "Epoch [48/300], Step [400/600], d_loss: 0.3591, g_loss: 2.6441, D(x): 0.84, D(G(z)): 0.10\n",
            "Epoch [48/300], Step [600/600], d_loss: 0.4648, g_loss: 2.8943, D(x): 0.84, D(G(z)): 0.16\n",
            "Saving fake_images-0049.png\n",
            "Epoch [49/300], Step [200/600], d_loss: 0.4214, g_loss: 2.7807, D(x): 0.87, D(G(z)): 0.17\n",
            "Epoch [49/300], Step [400/600], d_loss: 0.6303, g_loss: 2.6182, D(x): 0.75, D(G(z)): 0.13\n",
            "Epoch [49/300], Step [600/600], d_loss: 0.5587, g_loss: 2.4126, D(x): 0.86, D(G(z)): 0.19\n",
            "Saving fake_images-0050.png\n",
            "Epoch [50/300], Step [200/600], d_loss: 0.4751, g_loss: 2.7374, D(x): 0.86, D(G(z)): 0.17\n",
            "Epoch [50/300], Step [400/600], d_loss: 0.4506, g_loss: 3.4672, D(x): 0.82, D(G(z)): 0.09\n",
            "Epoch [50/300], Step [600/600], d_loss: 0.6865, g_loss: 2.3186, D(x): 0.79, D(G(z)): 0.21\n",
            "Saving fake_images-0051.png\n",
            "Epoch [51/300], Step [200/600], d_loss: 0.7843, g_loss: 2.2377, D(x): 0.78, D(G(z)): 0.24\n",
            "Epoch [51/300], Step [400/600], d_loss: 0.8704, g_loss: 2.3323, D(x): 0.90, D(G(z)): 0.37\n",
            "Epoch [51/300], Step [600/600], d_loss: 0.5471, g_loss: 2.5308, D(x): 0.79, D(G(z)): 0.15\n",
            "Saving fake_images-0052.png\n",
            "Epoch [52/300], Step [200/600], d_loss: 0.6927, g_loss: 2.2954, D(x): 0.76, D(G(z)): 0.21\n",
            "Epoch [52/300], Step [400/600], d_loss: 0.6140, g_loss: 2.1813, D(x): 0.77, D(G(z)): 0.15\n",
            "Epoch [52/300], Step [600/600], d_loss: 0.6834, g_loss: 2.4477, D(x): 0.79, D(G(z)): 0.23\n",
            "Saving fake_images-0053.png\n",
            "Epoch [53/300], Step [200/600], d_loss: 0.7443, g_loss: 1.9871, D(x): 0.72, D(G(z)): 0.16\n",
            "Epoch [53/300], Step [400/600], d_loss: 0.5261, g_loss: 2.4749, D(x): 0.81, D(G(z)): 0.15\n",
            "Epoch [53/300], Step [600/600], d_loss: 0.6810, g_loss: 2.6911, D(x): 0.73, D(G(z)): 0.12\n",
            "Saving fake_images-0054.png\n",
            "Epoch [54/300], Step [200/600], d_loss: 0.4571, g_loss: 2.9106, D(x): 0.83, D(G(z)): 0.16\n",
            "Epoch [54/300], Step [400/600], d_loss: 0.4644, g_loss: 2.5672, D(x): 0.85, D(G(z)): 0.19\n",
            "Epoch [54/300], Step [600/600], d_loss: 0.5545, g_loss: 2.2483, D(x): 0.86, D(G(z)): 0.23\n",
            "Saving fake_images-0055.png\n",
            "Epoch [55/300], Step [200/600], d_loss: 0.5978, g_loss: 2.9131, D(x): 0.79, D(G(z)): 0.18\n",
            "Epoch [55/300], Step [400/600], d_loss: 0.8746, g_loss: 2.0687, D(x): 0.68, D(G(z)): 0.13\n",
            "Epoch [55/300], Step [600/600], d_loss: 0.6455, g_loss: 2.2216, D(x): 0.81, D(G(z)): 0.24\n",
            "Saving fake_images-0056.png\n",
            "Epoch [56/300], Step [200/600], d_loss: 0.6501, g_loss: 2.2751, D(x): 0.80, D(G(z)): 0.23\n",
            "Epoch [56/300], Step [400/600], d_loss: 0.7996, g_loss: 2.3528, D(x): 0.76, D(G(z)): 0.26\n",
            "Epoch [56/300], Step [600/600], d_loss: 0.6569, g_loss: 2.8117, D(x): 0.79, D(G(z)): 0.20\n",
            "Saving fake_images-0057.png\n",
            "Epoch [57/300], Step [200/600], d_loss: 0.5504, g_loss: 2.1116, D(x): 0.81, D(G(z)): 0.17\n",
            "Epoch [57/300], Step [400/600], d_loss: 0.5280, g_loss: 2.7667, D(x): 0.85, D(G(z)): 0.22\n",
            "Epoch [57/300], Step [600/600], d_loss: 0.8866, g_loss: 2.3731, D(x): 0.67, D(G(z)): 0.16\n",
            "Saving fake_images-0058.png\n",
            "Epoch [58/300], Step [200/600], d_loss: 0.5337, g_loss: 2.6655, D(x): 0.78, D(G(z)): 0.13\n",
            "Epoch [58/300], Step [400/600], d_loss: 0.5126, g_loss: 2.6905, D(x): 0.83, D(G(z)): 0.15\n",
            "Epoch [58/300], Step [600/600], d_loss: 0.5626, g_loss: 2.9167, D(x): 0.78, D(G(z)): 0.13\n",
            "Saving fake_images-0059.png\n",
            "Epoch [59/300], Step [200/600], d_loss: 0.5029, g_loss: 2.8356, D(x): 0.81, D(G(z)): 0.14\n",
            "Epoch [59/300], Step [400/600], d_loss: 0.5310, g_loss: 2.5494, D(x): 0.85, D(G(z)): 0.18\n",
            "Epoch [59/300], Step [600/600], d_loss: 0.5810, g_loss: 2.9980, D(x): 0.86, D(G(z)): 0.19\n",
            "Saving fake_images-0060.png\n",
            "Epoch [60/300], Step [200/600], d_loss: 0.3908, g_loss: 2.7630, D(x): 0.88, D(G(z)): 0.16\n",
            "Epoch [60/300], Step [400/600], d_loss: 0.6031, g_loss: 2.8867, D(x): 0.83, D(G(z)): 0.19\n",
            "Epoch [60/300], Step [600/600], d_loss: 0.4346, g_loss: 2.4717, D(x): 0.88, D(G(z)): 0.18\n",
            "Saving fake_images-0061.png\n",
            "Epoch [61/300], Step [200/600], d_loss: 0.6945, g_loss: 3.3273, D(x): 0.79, D(G(z)): 0.23\n",
            "Epoch [61/300], Step [400/600], d_loss: 0.4940, g_loss: 2.8949, D(x): 0.83, D(G(z)): 0.17\n",
            "Epoch [61/300], Step [600/600], d_loss: 0.6277, g_loss: 2.7632, D(x): 0.83, D(G(z)): 0.23\n",
            "Saving fake_images-0062.png\n",
            "Epoch [62/300], Step [200/600], d_loss: 0.6692, g_loss: 3.0053, D(x): 0.77, D(G(z)): 0.16\n",
            "Epoch [62/300], Step [400/600], d_loss: 0.6454, g_loss: 2.3343, D(x): 0.80, D(G(z)): 0.22\n",
            "Epoch [62/300], Step [600/600], d_loss: 0.6121, g_loss: 2.6032, D(x): 0.86, D(G(z)): 0.30\n",
            "Saving fake_images-0063.png\n",
            "Epoch [63/300], Step [200/600], d_loss: 0.4896, g_loss: 2.0126, D(x): 0.86, D(G(z)): 0.19\n",
            "Epoch [63/300], Step [400/600], d_loss: 0.7579, g_loss: 2.2306, D(x): 0.82, D(G(z)): 0.26\n",
            "Epoch [63/300], Step [600/600], d_loss: 0.7049, g_loss: 2.2213, D(x): 0.77, D(G(z)): 0.20\n",
            "Saving fake_images-0064.png\n",
            "Epoch [64/300], Step [200/600], d_loss: 0.6181, g_loss: 2.2536, D(x): 0.79, D(G(z)): 0.19\n",
            "Epoch [64/300], Step [400/600], d_loss: 0.7535, g_loss: 2.0991, D(x): 0.73, D(G(z)): 0.15\n",
            "Epoch [64/300], Step [600/600], d_loss: 0.6819, g_loss: 1.9600, D(x): 0.88, D(G(z)): 0.29\n",
            "Saving fake_images-0065.png\n",
            "Epoch [65/300], Step [200/600], d_loss: 0.8417, g_loss: 1.6878, D(x): 0.90, D(G(z)): 0.41\n",
            "Epoch [65/300], Step [400/600], d_loss: 0.5614, g_loss: 2.1921, D(x): 0.83, D(G(z)): 0.23\n",
            "Epoch [65/300], Step [600/600], d_loss: 0.6605, g_loss: 2.0362, D(x): 0.79, D(G(z)): 0.22\n",
            "Saving fake_images-0066.png\n",
            "Epoch [66/300], Step [200/600], d_loss: 0.6731, g_loss: 2.5190, D(x): 0.76, D(G(z)): 0.16\n",
            "Epoch [66/300], Step [400/600], d_loss: 0.7606, g_loss: 1.5066, D(x): 0.82, D(G(z)): 0.32\n",
            "Epoch [66/300], Step [600/600], d_loss: 0.9679, g_loss: 1.7729, D(x): 0.85, D(G(z)): 0.43\n",
            "Saving fake_images-0067.png\n",
            "Epoch [67/300], Step [200/600], d_loss: 0.8736, g_loss: 1.6085, D(x): 0.70, D(G(z)): 0.25\n",
            "Epoch [67/300], Step [400/600], d_loss: 0.9265, g_loss: 1.7147, D(x): 0.72, D(G(z)): 0.26\n",
            "Epoch [67/300], Step [600/600], d_loss: 0.9374, g_loss: 2.2600, D(x): 0.70, D(G(z)): 0.22\n",
            "Saving fake_images-0068.png\n",
            "Epoch [68/300], Step [200/600], d_loss: 0.6738, g_loss: 2.2886, D(x): 0.74, D(G(z)): 0.15\n",
            "Epoch [68/300], Step [400/600], d_loss: 0.6266, g_loss: 2.4251, D(x): 0.80, D(G(z)): 0.21\n",
            "Epoch [68/300], Step [600/600], d_loss: 0.8678, g_loss: 2.0082, D(x): 0.66, D(G(z)): 0.15\n",
            "Saving fake_images-0069.png\n",
            "Epoch [69/300], Step [200/600], d_loss: 0.8763, g_loss: 1.6815, D(x): 0.73, D(G(z)): 0.26\n",
            "Epoch [69/300], Step [400/600], d_loss: 0.6645, g_loss: 1.8157, D(x): 0.81, D(G(z)): 0.25\n",
            "Epoch [69/300], Step [600/600], d_loss: 0.5486, g_loss: 2.2795, D(x): 0.82, D(G(z)): 0.17\n",
            "Saving fake_images-0070.png\n",
            "Epoch [70/300], Step [200/600], d_loss: 0.6133, g_loss: 1.8171, D(x): 0.79, D(G(z)): 0.24\n",
            "Epoch [70/300], Step [400/600], d_loss: 0.6613, g_loss: 2.1185, D(x): 0.79, D(G(z)): 0.24\n",
            "Epoch [70/300], Step [600/600], d_loss: 0.7511, g_loss: 2.5221, D(x): 0.80, D(G(z)): 0.26\n",
            "Saving fake_images-0071.png\n",
            "Epoch [71/300], Step [200/600], d_loss: 0.5544, g_loss: 2.3759, D(x): 0.84, D(G(z)): 0.22\n",
            "Epoch [71/300], Step [400/600], d_loss: 0.6372, g_loss: 2.0036, D(x): 0.85, D(G(z)): 0.27\n",
            "Epoch [71/300], Step [600/600], d_loss: 0.6034, g_loss: 2.3606, D(x): 0.80, D(G(z)): 0.19\n",
            "Saving fake_images-0072.png\n",
            "Epoch [72/300], Step [200/600], d_loss: 0.6464, g_loss: 1.9012, D(x): 0.76, D(G(z)): 0.18\n",
            "Epoch [72/300], Step [400/600], d_loss: 0.6445, g_loss: 2.1628, D(x): 0.79, D(G(z)): 0.21\n",
            "Epoch [72/300], Step [600/600], d_loss: 0.5618, g_loss: 2.0779, D(x): 0.82, D(G(z)): 0.20\n",
            "Saving fake_images-0073.png\n",
            "Epoch [73/300], Step [200/600], d_loss: 0.7017, g_loss: 1.7729, D(x): 0.69, D(G(z)): 0.15\n",
            "Epoch [73/300], Step [400/600], d_loss: 0.6754, g_loss: 2.4309, D(x): 0.83, D(G(z)): 0.27\n",
            "Epoch [73/300], Step [600/600], d_loss: 0.7056, g_loss: 2.5686, D(x): 0.84, D(G(z)): 0.29\n",
            "Saving fake_images-0074.png\n",
            "Epoch [74/300], Step [200/600], d_loss: 0.7618, g_loss: 2.3456, D(x): 0.73, D(G(z)): 0.23\n",
            "Epoch [74/300], Step [400/600], d_loss: 0.6370, g_loss: 2.6760, D(x): 0.75, D(G(z)): 0.16\n",
            "Epoch [74/300], Step [600/600], d_loss: 0.5719, g_loss: 2.2364, D(x): 0.88, D(G(z)): 0.28\n",
            "Saving fake_images-0075.png\n",
            "Epoch [75/300], Step [200/600], d_loss: 0.9266, g_loss: 2.4838, D(x): 0.66, D(G(z)): 0.18\n",
            "Epoch [75/300], Step [400/600], d_loss: 1.1123, g_loss: 1.6816, D(x): 0.72, D(G(z)): 0.33\n",
            "Epoch [75/300], Step [600/600], d_loss: 0.7819, g_loss: 1.5931, D(x): 0.77, D(G(z)): 0.29\n",
            "Saving fake_images-0076.png\n",
            "Epoch [76/300], Step [200/600], d_loss: 0.8577, g_loss: 2.6238, D(x): 0.74, D(G(z)): 0.27\n",
            "Epoch [76/300], Step [400/600], d_loss: 0.5947, g_loss: 1.8655, D(x): 0.83, D(G(z)): 0.22\n",
            "Epoch [76/300], Step [600/600], d_loss: 0.8084, g_loss: 1.7692, D(x): 0.71, D(G(z)): 0.18\n",
            "Saving fake_images-0077.png\n",
            "Epoch [77/300], Step [200/600], d_loss: 0.6954, g_loss: 2.0066, D(x): 0.83, D(G(z)): 0.28\n",
            "Epoch [77/300], Step [400/600], d_loss: 0.8926, g_loss: 2.7804, D(x): 0.74, D(G(z)): 0.26\n",
            "Epoch [77/300], Step [600/600], d_loss: 0.7155, g_loss: 2.0402, D(x): 0.80, D(G(z)): 0.25\n",
            "Saving fake_images-0078.png\n",
            "Epoch [78/300], Step [200/600], d_loss: 0.6480, g_loss: 1.9463, D(x): 0.84, D(G(z)): 0.29\n",
            "Epoch [78/300], Step [400/600], d_loss: 0.8049, g_loss: 1.7514, D(x): 0.77, D(G(z)): 0.26\n",
            "Epoch [78/300], Step [600/600], d_loss: 0.8560, g_loss: 1.6223, D(x): 0.75, D(G(z)): 0.25\n",
            "Saving fake_images-0079.png\n",
            "Epoch [79/300], Step [200/600], d_loss: 0.7449, g_loss: 2.5225, D(x): 0.73, D(G(z)): 0.23\n",
            "Epoch [79/300], Step [400/600], d_loss: 0.8024, g_loss: 1.9683, D(x): 0.76, D(G(z)): 0.27\n",
            "Epoch [79/300], Step [600/600], d_loss: 0.7590, g_loss: 2.2167, D(x): 0.75, D(G(z)): 0.21\n",
            "Saving fake_images-0080.png\n",
            "Epoch [80/300], Step [200/600], d_loss: 0.7181, g_loss: 1.8837, D(x): 0.77, D(G(z)): 0.26\n",
            "Epoch [80/300], Step [400/600], d_loss: 0.7547, g_loss: 2.3629, D(x): 0.69, D(G(z)): 0.20\n",
            "Epoch [80/300], Step [600/600], d_loss: 0.7845, g_loss: 2.2590, D(x): 0.78, D(G(z)): 0.26\n",
            "Saving fake_images-0081.png\n",
            "Epoch [81/300], Step [200/600], d_loss: 0.7883, g_loss: 1.7948, D(x): 0.77, D(G(z)): 0.25\n",
            "Epoch [81/300], Step [400/600], d_loss: 0.7933, g_loss: 2.3294, D(x): 0.72, D(G(z)): 0.23\n",
            "Epoch [81/300], Step [600/600], d_loss: 0.8015, g_loss: 2.0100, D(x): 0.77, D(G(z)): 0.29\n",
            "Saving fake_images-0082.png\n",
            "Epoch [82/300], Step [200/600], d_loss: 0.7811, g_loss: 2.2128, D(x): 0.82, D(G(z)): 0.31\n",
            "Epoch [82/300], Step [400/600], d_loss: 0.6779, g_loss: 2.0730, D(x): 0.80, D(G(z)): 0.25\n",
            "Epoch [82/300], Step [600/600], d_loss: 0.6999, g_loss: 1.7668, D(x): 0.74, D(G(z)): 0.19\n",
            "Saving fake_images-0083.png\n",
            "Epoch [83/300], Step [200/600], d_loss: 0.7515, g_loss: 2.0726, D(x): 0.76, D(G(z)): 0.25\n",
            "Epoch [83/300], Step [400/600], d_loss: 0.7936, g_loss: 2.1913, D(x): 0.76, D(G(z)): 0.25\n",
            "Epoch [83/300], Step [600/600], d_loss: 0.7167, g_loss: 2.3529, D(x): 0.77, D(G(z)): 0.24\n",
            "Saving fake_images-0084.png\n",
            "Epoch [84/300], Step [200/600], d_loss: 0.7211, g_loss: 2.1988, D(x): 0.79, D(G(z)): 0.25\n",
            "Epoch [84/300], Step [400/600], d_loss: 0.8835, g_loss: 1.3339, D(x): 0.72, D(G(z)): 0.28\n",
            "Epoch [84/300], Step [600/600], d_loss: 0.7774, g_loss: 2.0901, D(x): 0.78, D(G(z)): 0.27\n",
            "Saving fake_images-0085.png\n",
            "Epoch [85/300], Step [200/600], d_loss: 0.6346, g_loss: 1.8803, D(x): 0.84, D(G(z)): 0.25\n",
            "Epoch [85/300], Step [400/600], d_loss: 0.9017, g_loss: 1.8716, D(x): 0.64, D(G(z)): 0.18\n",
            "Epoch [85/300], Step [600/600], d_loss: 0.8572, g_loss: 2.1684, D(x): 0.71, D(G(z)): 0.24\n",
            "Saving fake_images-0086.png\n",
            "Epoch [86/300], Step [200/600], d_loss: 0.8418, g_loss: 1.9653, D(x): 0.77, D(G(z)): 0.32\n",
            "Epoch [86/300], Step [400/600], d_loss: 0.7598, g_loss: 1.5103, D(x): 0.72, D(G(z)): 0.22\n",
            "Epoch [86/300], Step [600/600], d_loss: 0.8806, g_loss: 1.9806, D(x): 0.79, D(G(z)): 0.32\n",
            "Saving fake_images-0087.png\n",
            "Epoch [87/300], Step [200/600], d_loss: 0.9988, g_loss: 1.6279, D(x): 0.63, D(G(z)): 0.18\n",
            "Epoch [87/300], Step [400/600], d_loss: 0.8300, g_loss: 1.8185, D(x): 0.71, D(G(z)): 0.22\n",
            "Epoch [87/300], Step [600/600], d_loss: 0.5892, g_loss: 2.4419, D(x): 0.84, D(G(z)): 0.23\n",
            "Saving fake_images-0088.png\n",
            "Epoch [88/300], Step [200/600], d_loss: 0.8622, g_loss: 1.8888, D(x): 0.68, D(G(z)): 0.20\n",
            "Epoch [88/300], Step [400/600], d_loss: 0.7745, g_loss: 1.9493, D(x): 0.71, D(G(z)): 0.20\n",
            "Epoch [88/300], Step [600/600], d_loss: 0.9239, g_loss: 1.9991, D(x): 0.68, D(G(z)): 0.23\n",
            "Saving fake_images-0089.png\n",
            "Epoch [89/300], Step [200/600], d_loss: 0.7043, g_loss: 2.2610, D(x): 0.80, D(G(z)): 0.26\n",
            "Epoch [89/300], Step [400/600], d_loss: 0.6469, g_loss: 2.2290, D(x): 0.77, D(G(z)): 0.22\n",
            "Epoch [89/300], Step [600/600], d_loss: 0.7478, g_loss: 1.9381, D(x): 0.76, D(G(z)): 0.25\n",
            "Saving fake_images-0090.png\n",
            "Epoch [90/300], Step [200/600], d_loss: 0.8722, g_loss: 1.8335, D(x): 0.63, D(G(z)): 0.18\n",
            "Epoch [90/300], Step [400/600], d_loss: 0.7708, g_loss: 1.9738, D(x): 0.65, D(G(z)): 0.14\n",
            "Epoch [90/300], Step [600/600], d_loss: 0.7835, g_loss: 2.1870, D(x): 0.71, D(G(z)): 0.24\n",
            "Saving fake_images-0091.png\n",
            "Epoch [91/300], Step [200/600], d_loss: 0.9833, g_loss: 1.8929, D(x): 0.73, D(G(z)): 0.34\n",
            "Epoch [91/300], Step [400/600], d_loss: 0.8299, g_loss: 1.9288, D(x): 0.78, D(G(z)): 0.35\n",
            "Epoch [91/300], Step [600/600], d_loss: 0.8087, g_loss: 2.3669, D(x): 0.69, D(G(z)): 0.20\n",
            "Saving fake_images-0092.png\n",
            "Epoch [92/300], Step [200/600], d_loss: 0.9714, g_loss: 1.9501, D(x): 0.68, D(G(z)): 0.24\n",
            "Epoch [92/300], Step [400/600], d_loss: 0.7303, g_loss: 1.8202, D(x): 0.82, D(G(z)): 0.29\n",
            "Epoch [92/300], Step [600/600], d_loss: 0.7483, g_loss: 1.7670, D(x): 0.83, D(G(z)): 0.28\n",
            "Saving fake_images-0093.png\n",
            "Epoch [93/300], Step [200/600], d_loss: 0.6465, g_loss: 2.1057, D(x): 0.77, D(G(z)): 0.21\n",
            "Epoch [93/300], Step [400/600], d_loss: 0.6842, g_loss: 2.4691, D(x): 0.79, D(G(z)): 0.24\n",
            "Epoch [93/300], Step [600/600], d_loss: 0.7864, g_loss: 1.9482, D(x): 0.72, D(G(z)): 0.21\n",
            "Saving fake_images-0094.png\n",
            "Epoch [94/300], Step [200/600], d_loss: 0.5837, g_loss: 2.2141, D(x): 0.82, D(G(z)): 0.23\n",
            "Epoch [94/300], Step [400/600], d_loss: 0.8638, g_loss: 1.8053, D(x): 0.74, D(G(z)): 0.29\n",
            "Epoch [94/300], Step [600/600], d_loss: 0.8990, g_loss: 1.7318, D(x): 0.68, D(G(z)): 0.22\n",
            "Saving fake_images-0095.png\n",
            "Epoch [95/300], Step [200/600], d_loss: 0.7251, g_loss: 2.2838, D(x): 0.69, D(G(z)): 0.15\n",
            "Epoch [95/300], Step [400/600], d_loss: 0.9013, g_loss: 1.6038, D(x): 0.74, D(G(z)): 0.29\n",
            "Epoch [95/300], Step [600/600], d_loss: 0.6950, g_loss: 1.9455, D(x): 0.79, D(G(z)): 0.27\n",
            "Saving fake_images-0096.png\n",
            "Epoch [96/300], Step [200/600], d_loss: 0.8055, g_loss: 2.0290, D(x): 0.81, D(G(z)): 0.35\n",
            "Epoch [96/300], Step [400/600], d_loss: 0.7083, g_loss: 1.8122, D(x): 0.81, D(G(z)): 0.28\n",
            "Epoch [96/300], Step [600/600], d_loss: 0.7645, g_loss: 2.2793, D(x): 0.74, D(G(z)): 0.23\n",
            "Saving fake_images-0097.png\n",
            "Epoch [97/300], Step [200/600], d_loss: 0.8308, g_loss: 1.9286, D(x): 0.74, D(G(z)): 0.28\n",
            "Epoch [97/300], Step [400/600], d_loss: 0.8551, g_loss: 1.9397, D(x): 0.74, D(G(z)): 0.30\n",
            "Epoch [97/300], Step [600/600], d_loss: 0.9529, g_loss: 1.9759, D(x): 0.63, D(G(z)): 0.20\n",
            "Saving fake_images-0098.png\n",
            "Epoch [98/300], Step [200/600], d_loss: 0.7708, g_loss: 1.9208, D(x): 0.74, D(G(z)): 0.25\n",
            "Epoch [98/300], Step [400/600], d_loss: 0.6896, g_loss: 2.1650, D(x): 0.80, D(G(z)): 0.26\n",
            "Epoch [98/300], Step [600/600], d_loss: 0.7257, g_loss: 2.2586, D(x): 0.71, D(G(z)): 0.17\n",
            "Saving fake_images-0099.png\n",
            "Epoch [99/300], Step [200/600], d_loss: 0.7638, g_loss: 2.0256, D(x): 0.69, D(G(z)): 0.21\n",
            "Epoch [99/300], Step [400/600], d_loss: 0.8411, g_loss: 2.1982, D(x): 0.77, D(G(z)): 0.29\n",
            "Epoch [99/300], Step [600/600], d_loss: 0.6610, g_loss: 2.3342, D(x): 0.74, D(G(z)): 0.17\n",
            "Saving fake_images-0100.png\n",
            "Epoch [100/300], Step [200/600], d_loss: 0.7740, g_loss: 1.6518, D(x): 0.80, D(G(z)): 0.28\n",
            "Epoch [100/300], Step [400/600], d_loss: 1.1309, g_loss: 1.8160, D(x): 0.55, D(G(z)): 0.18\n",
            "Epoch [100/300], Step [600/600], d_loss: 0.8278, g_loss: 1.8401, D(x): 0.73, D(G(z)): 0.29\n",
            "Saving fake_images-0101.png\n",
            "Epoch [101/300], Step [200/600], d_loss: 0.9577, g_loss: 1.8251, D(x): 0.73, D(G(z)): 0.29\n",
            "Epoch [101/300], Step [400/600], d_loss: 0.8418, g_loss: 1.7775, D(x): 0.70, D(G(z)): 0.23\n",
            "Epoch [101/300], Step [600/600], d_loss: 0.8939, g_loss: 1.5840, D(x): 0.70, D(G(z)): 0.27\n",
            "Saving fake_images-0102.png\n",
            "Epoch [102/300], Step [200/600], d_loss: 0.8814, g_loss: 1.8861, D(x): 0.73, D(G(z)): 0.29\n",
            "Epoch [102/300], Step [400/600], d_loss: 0.7920, g_loss: 2.4283, D(x): 0.77, D(G(z)): 0.28\n",
            "Epoch [102/300], Step [600/600], d_loss: 0.7386, g_loss: 1.8330, D(x): 0.81, D(G(z)): 0.31\n",
            "Saving fake_images-0103.png\n",
            "Epoch [103/300], Step [200/600], d_loss: 0.9098, g_loss: 2.4697, D(x): 0.64, D(G(z)): 0.20\n",
            "Epoch [103/300], Step [400/600], d_loss: 0.8384, g_loss: 1.6345, D(x): 0.80, D(G(z)): 0.35\n",
            "Epoch [103/300], Step [600/600], d_loss: 0.7959, g_loss: 1.5091, D(x): 0.70, D(G(z)): 0.23\n",
            "Saving fake_images-0104.png\n",
            "Epoch [104/300], Step [200/600], d_loss: 0.8543, g_loss: 1.8287, D(x): 0.67, D(G(z)): 0.20\n",
            "Epoch [104/300], Step [400/600], d_loss: 0.7633, g_loss: 1.3413, D(x): 0.73, D(G(z)): 0.26\n",
            "Epoch [104/300], Step [600/600], d_loss: 0.7776, g_loss: 2.1816, D(x): 0.67, D(G(z)): 0.19\n",
            "Saving fake_images-0105.png\n",
            "Epoch [105/300], Step [200/600], d_loss: 0.7411, g_loss: 1.7764, D(x): 0.81, D(G(z)): 0.33\n",
            "Epoch [105/300], Step [400/600], d_loss: 0.8518, g_loss: 1.9358, D(x): 0.70, D(G(z)): 0.26\n",
            "Epoch [105/300], Step [600/600], d_loss: 0.8689, g_loss: 1.7668, D(x): 0.63, D(G(z)): 0.19\n",
            "Saving fake_images-0106.png\n",
            "Epoch [106/300], Step [200/600], d_loss: 0.7166, g_loss: 1.7315, D(x): 0.79, D(G(z)): 0.27\n",
            "Epoch [106/300], Step [400/600], d_loss: 0.9984, g_loss: 1.8260, D(x): 0.72, D(G(z)): 0.33\n",
            "Epoch [106/300], Step [600/600], d_loss: 1.0305, g_loss: 1.7028, D(x): 0.64, D(G(z)): 0.28\n",
            "Saving fake_images-0107.png\n",
            "Epoch [107/300], Step [200/600], d_loss: 0.7294, g_loss: 1.4733, D(x): 0.79, D(G(z)): 0.32\n",
            "Epoch [107/300], Step [400/600], d_loss: 0.7618, g_loss: 1.7441, D(x): 0.72, D(G(z)): 0.23\n",
            "Epoch [107/300], Step [600/600], d_loss: 0.6139, g_loss: 2.1430, D(x): 0.74, D(G(z)): 0.17\n",
            "Saving fake_images-0108.png\n",
            "Epoch [108/300], Step [200/600], d_loss: 0.8677, g_loss: 1.4801, D(x): 0.71, D(G(z)): 0.28\n",
            "Epoch [108/300], Step [400/600], d_loss: 0.9095, g_loss: 1.4197, D(x): 0.66, D(G(z)): 0.22\n",
            "Epoch [108/300], Step [600/600], d_loss: 0.6502, g_loss: 2.0496, D(x): 0.81, D(G(z)): 0.26\n",
            "Saving fake_images-0109.png\n",
            "Epoch [109/300], Step [200/600], d_loss: 0.8598, g_loss: 1.7936, D(x): 0.72, D(G(z)): 0.29\n",
            "Epoch [109/300], Step [400/600], d_loss: 0.7987, g_loss: 1.9272, D(x): 0.71, D(G(z)): 0.21\n",
            "Epoch [109/300], Step [600/600], d_loss: 0.9131, g_loss: 2.0665, D(x): 0.66, D(G(z)): 0.24\n",
            "Saving fake_images-0110.png\n",
            "Epoch [110/300], Step [200/600], d_loss: 1.0732, g_loss: 1.8551, D(x): 0.66, D(G(z)): 0.32\n",
            "Epoch [110/300], Step [400/600], d_loss: 0.7192, g_loss: 1.9518, D(x): 0.72, D(G(z)): 0.21\n",
            "Epoch [110/300], Step [600/600], d_loss: 0.6964, g_loss: 1.6503, D(x): 0.83, D(G(z)): 0.32\n",
            "Saving fake_images-0111.png\n",
            "Epoch [111/300], Step [200/600], d_loss: 0.6712, g_loss: 1.5913, D(x): 0.78, D(G(z)): 0.25\n",
            "Epoch [111/300], Step [400/600], d_loss: 0.7524, g_loss: 2.1942, D(x): 0.67, D(G(z)): 0.18\n",
            "Epoch [111/300], Step [600/600], d_loss: 0.8845, g_loss: 1.9867, D(x): 0.68, D(G(z)): 0.23\n",
            "Saving fake_images-0112.png\n",
            "Epoch [112/300], Step [200/600], d_loss: 0.7476, g_loss: 2.3048, D(x): 0.74, D(G(z)): 0.23\n",
            "Epoch [112/300], Step [400/600], d_loss: 0.9291, g_loss: 1.7292, D(x): 0.64, D(G(z)): 0.23\n",
            "Epoch [112/300], Step [600/600], d_loss: 0.6964, g_loss: 2.0535, D(x): 0.79, D(G(z)): 0.28\n",
            "Saving fake_images-0113.png\n",
            "Epoch [113/300], Step [200/600], d_loss: 1.0242, g_loss: 1.9370, D(x): 0.70, D(G(z)): 0.37\n",
            "Epoch [113/300], Step [400/600], d_loss: 0.6610, g_loss: 2.2788, D(x): 0.77, D(G(z)): 0.21\n",
            "Epoch [113/300], Step [600/600], d_loss: 0.8420, g_loss: 1.8253, D(x): 0.72, D(G(z)): 0.26\n",
            "Saving fake_images-0114.png\n",
            "Epoch [114/300], Step [200/600], d_loss: 0.7994, g_loss: 1.5858, D(x): 0.77, D(G(z)): 0.27\n",
            "Epoch [114/300], Step [400/600], d_loss: 0.9840, g_loss: 1.8203, D(x): 0.74, D(G(z)): 0.32\n",
            "Epoch [114/300], Step [600/600], d_loss: 0.8407, g_loss: 2.1249, D(x): 0.76, D(G(z)): 0.30\n",
            "Saving fake_images-0115.png\n",
            "Epoch [115/300], Step [200/600], d_loss: 1.1662, g_loss: 1.4134, D(x): 0.73, D(G(z)): 0.41\n",
            "Epoch [115/300], Step [400/600], d_loss: 0.8908, g_loss: 2.1226, D(x): 0.72, D(G(z)): 0.28\n",
            "Epoch [115/300], Step [600/600], d_loss: 0.7746, g_loss: 1.7571, D(x): 0.76, D(G(z)): 0.29\n",
            "Saving fake_images-0116.png\n",
            "Epoch [116/300], Step [200/600], d_loss: 0.9797, g_loss: 1.7026, D(x): 0.67, D(G(z)): 0.30\n",
            "Epoch [116/300], Step [400/600], d_loss: 0.8666, g_loss: 2.3501, D(x): 0.70, D(G(z)): 0.26\n",
            "Epoch [116/300], Step [600/600], d_loss: 1.0230, g_loss: 1.9546, D(x): 0.74, D(G(z)): 0.35\n",
            "Saving fake_images-0117.png\n",
            "Epoch [117/300], Step [200/600], d_loss: 0.7493, g_loss: 1.7066, D(x): 0.81, D(G(z)): 0.32\n",
            "Epoch [117/300], Step [400/600], d_loss: 0.8155, g_loss: 1.6042, D(x): 0.73, D(G(z)): 0.29\n",
            "Epoch [117/300], Step [600/600], d_loss: 0.9260, g_loss: 1.8476, D(x): 0.79, D(G(z)): 0.39\n",
            "Saving fake_images-0118.png\n",
            "Epoch [118/300], Step [200/600], d_loss: 0.7784, g_loss: 1.9154, D(x): 0.76, D(G(z)): 0.30\n",
            "Epoch [118/300], Step [400/600], d_loss: 0.8582, g_loss: 1.6690, D(x): 0.71, D(G(z)): 0.25\n",
            "Epoch [118/300], Step [600/600], d_loss: 0.8214, g_loss: 1.8073, D(x): 0.68, D(G(z)): 0.20\n",
            "Saving fake_images-0119.png\n",
            "Epoch [119/300], Step [200/600], d_loss: 0.7099, g_loss: 1.5092, D(x): 0.76, D(G(z)): 0.23\n",
            "Epoch [119/300], Step [400/600], d_loss: 0.8980, g_loss: 1.3755, D(x): 0.69, D(G(z)): 0.26\n",
            "Epoch [119/300], Step [600/600], d_loss: 0.6859, g_loss: 1.7400, D(x): 0.75, D(G(z)): 0.25\n",
            "Saving fake_images-0120.png\n",
            "Epoch [120/300], Step [200/600], d_loss: 0.7669, g_loss: 2.0317, D(x): 0.73, D(G(z)): 0.25\n",
            "Epoch [120/300], Step [400/600], d_loss: 0.7276, g_loss: 1.6643, D(x): 0.75, D(G(z)): 0.25\n",
            "Epoch [120/300], Step [600/600], d_loss: 1.1334, g_loss: 1.8066, D(x): 0.63, D(G(z)): 0.27\n",
            "Saving fake_images-0121.png\n",
            "Epoch [121/300], Step [200/600], d_loss: 0.6985, g_loss: 1.5872, D(x): 0.78, D(G(z)): 0.25\n",
            "Epoch [121/300], Step [400/600], d_loss: 1.1148, g_loss: 1.3672, D(x): 0.62, D(G(z)): 0.29\n",
            "Epoch [121/300], Step [600/600], d_loss: 0.9455, g_loss: 1.9950, D(x): 0.69, D(G(z)): 0.29\n",
            "Saving fake_images-0122.png\n",
            "Epoch [122/300], Step [200/600], d_loss: 0.8895, g_loss: 1.9445, D(x): 0.78, D(G(z)): 0.37\n",
            "Epoch [122/300], Step [400/600], d_loss: 0.7950, g_loss: 1.6930, D(x): 0.72, D(G(z)): 0.26\n",
            "Epoch [122/300], Step [600/600], d_loss: 0.9163, g_loss: 1.6009, D(x): 0.68, D(G(z)): 0.25\n",
            "Saving fake_images-0123.png\n",
            "Epoch [123/300], Step [200/600], d_loss: 0.7380, g_loss: 2.0208, D(x): 0.68, D(G(z)): 0.17\n",
            "Epoch [123/300], Step [400/600], d_loss: 0.8350, g_loss: 1.9459, D(x): 0.73, D(G(z)): 0.29\n",
            "Epoch [123/300], Step [600/600], d_loss: 0.8340, g_loss: 1.8758, D(x): 0.71, D(G(z)): 0.23\n",
            "Saving fake_images-0124.png\n",
            "Epoch [124/300], Step [200/600], d_loss: 0.7155, g_loss: 1.9671, D(x): 0.71, D(G(z)): 0.19\n",
            "Epoch [124/300], Step [400/600], d_loss: 0.9744, g_loss: 1.3383, D(x): 0.78, D(G(z)): 0.41\n",
            "Epoch [124/300], Step [600/600], d_loss: 0.8687, g_loss: 1.6487, D(x): 0.73, D(G(z)): 0.29\n",
            "Saving fake_images-0125.png\n",
            "Epoch [125/300], Step [200/600], d_loss: 0.8534, g_loss: 1.9974, D(x): 0.73, D(G(z)): 0.30\n",
            "Epoch [125/300], Step [400/600], d_loss: 0.8856, g_loss: 1.7930, D(x): 0.75, D(G(z)): 0.32\n",
            "Epoch [125/300], Step [600/600], d_loss: 0.8726, g_loss: 1.3904, D(x): 0.77, D(G(z)): 0.32\n",
            "Saving fake_images-0126.png\n",
            "Epoch [126/300], Step [200/600], d_loss: 1.0329, g_loss: 1.7868, D(x): 0.63, D(G(z)): 0.27\n",
            "Epoch [126/300], Step [400/600], d_loss: 0.6860, g_loss: 1.8414, D(x): 0.79, D(G(z)): 0.27\n",
            "Epoch [126/300], Step [600/600], d_loss: 1.0505, g_loss: 1.3485, D(x): 0.70, D(G(z)): 0.37\n",
            "Saving fake_images-0127.png\n",
            "Epoch [127/300], Step [200/600], d_loss: 0.9109, g_loss: 1.7703, D(x): 0.71, D(G(z)): 0.32\n",
            "Epoch [127/300], Step [400/600], d_loss: 0.9572, g_loss: 1.9298, D(x): 0.71, D(G(z)): 0.31\n",
            "Epoch [127/300], Step [600/600], d_loss: 0.7434, g_loss: 1.7699, D(x): 0.78, D(G(z)): 0.28\n",
            "Saving fake_images-0128.png\n",
            "Epoch [128/300], Step [200/600], d_loss: 0.6924, g_loss: 2.1969, D(x): 0.78, D(G(z)): 0.26\n",
            "Epoch [128/300], Step [400/600], d_loss: 1.0035, g_loss: 1.4003, D(x): 0.69, D(G(z)): 0.33\n",
            "Epoch [128/300], Step [600/600], d_loss: 0.8268, g_loss: 1.5636, D(x): 0.74, D(G(z)): 0.29\n",
            "Saving fake_images-0129.png\n",
            "Epoch [129/300], Step [200/600], d_loss: 0.9856, g_loss: 1.6370, D(x): 0.68, D(G(z)): 0.30\n",
            "Epoch [129/300], Step [400/600], d_loss: 0.9033, g_loss: 1.8674, D(x): 0.74, D(G(z)): 0.36\n",
            "Epoch [129/300], Step [600/600], d_loss: 0.8372, g_loss: 1.3299, D(x): 0.76, D(G(z)): 0.34\n",
            "Saving fake_images-0130.png\n",
            "Epoch [130/300], Step [200/600], d_loss: 0.8755, g_loss: 1.9193, D(x): 0.60, D(G(z)): 0.15\n",
            "Epoch [130/300], Step [400/600], d_loss: 1.1243, g_loss: 1.4591, D(x): 0.67, D(G(z)): 0.33\n",
            "Epoch [130/300], Step [600/600], d_loss: 0.9145, g_loss: 1.8252, D(x): 0.70, D(G(z)): 0.26\n",
            "Saving fake_images-0131.png\n",
            "Epoch [131/300], Step [200/600], d_loss: 0.8981, g_loss: 2.4523, D(x): 0.62, D(G(z)): 0.19\n",
            "Epoch [131/300], Step [400/600], d_loss: 1.0118, g_loss: 1.6628, D(x): 0.65, D(G(z)): 0.27\n",
            "Epoch [131/300], Step [600/600], d_loss: 0.8309, g_loss: 2.1343, D(x): 0.73, D(G(z)): 0.24\n",
            "Saving fake_images-0132.png\n",
            "Epoch [132/300], Step [200/600], d_loss: 0.6454, g_loss: 1.9999, D(x): 0.76, D(G(z)): 0.24\n",
            "Epoch [132/300], Step [400/600], d_loss: 0.9271, g_loss: 1.5116, D(x): 0.66, D(G(z)): 0.24\n",
            "Epoch [132/300], Step [600/600], d_loss: 1.3206, g_loss: 1.5543, D(x): 0.49, D(G(z)): 0.19\n",
            "Saving fake_images-0133.png\n",
            "Epoch [133/300], Step [200/600], d_loss: 0.9550, g_loss: 1.5365, D(x): 0.73, D(G(z)): 0.35\n",
            "Epoch [133/300], Step [400/600], d_loss: 0.9331, g_loss: 1.6472, D(x): 0.71, D(G(z)): 0.31\n",
            "Epoch [133/300], Step [600/600], d_loss: 1.0162, g_loss: 1.5523, D(x): 0.67, D(G(z)): 0.31\n",
            "Saving fake_images-0134.png\n",
            "Epoch [134/300], Step [200/600], d_loss: 0.8444, g_loss: 1.6698, D(x): 0.67, D(G(z)): 0.23\n",
            "Epoch [134/300], Step [400/600], d_loss: 0.7827, g_loss: 1.7648, D(x): 0.69, D(G(z)): 0.20\n",
            "Epoch [134/300], Step [600/600], d_loss: 0.8238, g_loss: 1.7629, D(x): 0.72, D(G(z)): 0.27\n",
            "Saving fake_images-0135.png\n",
            "Epoch [135/300], Step [200/600], d_loss: 1.1859, g_loss: 1.5513, D(x): 0.59, D(G(z)): 0.29\n",
            "Epoch [135/300], Step [400/600], d_loss: 0.7794, g_loss: 1.5814, D(x): 0.73, D(G(z)): 0.25\n",
            "Epoch [135/300], Step [600/600], d_loss: 1.1283, g_loss: 1.2686, D(x): 0.64, D(G(z)): 0.35\n",
            "Saving fake_images-0136.png\n",
            "Epoch [136/300], Step [200/600], d_loss: 0.7903, g_loss: 1.9535, D(x): 0.69, D(G(z)): 0.20\n",
            "Epoch [136/300], Step [400/600], d_loss: 0.9664, g_loss: 1.8642, D(x): 0.63, D(G(z)): 0.22\n",
            "Epoch [136/300], Step [600/600], d_loss: 0.9886, g_loss: 1.5517, D(x): 0.62, D(G(z)): 0.27\n",
            "Saving fake_images-0137.png\n",
            "Epoch [137/300], Step [200/600], d_loss: 0.8728, g_loss: 1.2178, D(x): 0.74, D(G(z)): 0.33\n",
            "Epoch [137/300], Step [400/600], d_loss: 0.7766, g_loss: 1.9338, D(x): 0.80, D(G(z)): 0.34\n",
            "Epoch [137/300], Step [600/600], d_loss: 0.7309, g_loss: 1.7175, D(x): 0.70, D(G(z)): 0.20\n",
            "Saving fake_images-0138.png\n",
            "Epoch [138/300], Step [200/600], d_loss: 0.8648, g_loss: 1.5349, D(x): 0.80, D(G(z)): 0.36\n",
            "Epoch [138/300], Step [400/600], d_loss: 0.8617, g_loss: 1.5660, D(x): 0.73, D(G(z)): 0.30\n",
            "Epoch [138/300], Step [600/600], d_loss: 0.8429, g_loss: 1.9731, D(x): 0.71, D(G(z)): 0.27\n",
            "Saving fake_images-0139.png\n",
            "Epoch [139/300], Step [200/600], d_loss: 0.8519, g_loss: 1.5480, D(x): 0.68, D(G(z)): 0.25\n",
            "Epoch [139/300], Step [400/600], d_loss: 0.7578, g_loss: 2.1825, D(x): 0.73, D(G(z)): 0.25\n",
            "Epoch [139/300], Step [600/600], d_loss: 0.8601, g_loss: 1.7021, D(x): 0.77, D(G(z)): 0.32\n",
            "Saving fake_images-0140.png\n",
            "Epoch [140/300], Step [200/600], d_loss: 0.9500, g_loss: 1.2839, D(x): 0.76, D(G(z)): 0.37\n",
            "Epoch [140/300], Step [400/600], d_loss: 1.0799, g_loss: 1.5209, D(x): 0.72, D(G(z)): 0.37\n",
            "Epoch [140/300], Step [600/600], d_loss: 0.8496, g_loss: 1.7229, D(x): 0.74, D(G(z)): 0.29\n",
            "Saving fake_images-0141.png\n",
            "Epoch [141/300], Step [200/600], d_loss: 0.7662, g_loss: 1.8664, D(x): 0.73, D(G(z)): 0.28\n",
            "Epoch [141/300], Step [400/600], d_loss: 0.9412, g_loss: 1.4957, D(x): 0.71, D(G(z)): 0.35\n",
            "Epoch [141/300], Step [600/600], d_loss: 1.0738, g_loss: 2.0039, D(x): 0.56, D(G(z)): 0.18\n",
            "Saving fake_images-0142.png\n",
            "Epoch [142/300], Step [200/600], d_loss: 0.9796, g_loss: 1.2235, D(x): 0.63, D(G(z)): 0.28\n",
            "Epoch [142/300], Step [400/600], d_loss: 0.9072, g_loss: 2.0255, D(x): 0.66, D(G(z)): 0.24\n",
            "Epoch [142/300], Step [600/600], d_loss: 0.9442, g_loss: 1.4045, D(x): 0.73, D(G(z)): 0.35\n",
            "Saving fake_images-0143.png\n",
            "Epoch [143/300], Step [200/600], d_loss: 0.8173, g_loss: 1.6371, D(x): 0.73, D(G(z)): 0.26\n",
            "Epoch [143/300], Step [400/600], d_loss: 1.0945, g_loss: 1.6299, D(x): 0.58, D(G(z)): 0.25\n",
            "Epoch [143/300], Step [600/600], d_loss: 0.8174, g_loss: 1.7596, D(x): 0.76, D(G(z)): 0.33\n",
            "Saving fake_images-0144.png\n",
            "Epoch [144/300], Step [200/600], d_loss: 1.0236, g_loss: 1.7604, D(x): 0.64, D(G(z)): 0.27\n",
            "Epoch [144/300], Step [400/600], d_loss: 0.8667, g_loss: 1.5421, D(x): 0.74, D(G(z)): 0.32\n",
            "Epoch [144/300], Step [600/600], d_loss: 0.6859, g_loss: 2.3409, D(x): 0.68, D(G(z)): 0.15\n",
            "Saving fake_images-0145.png\n",
            "Epoch [145/300], Step [200/600], d_loss: 0.8233, g_loss: 1.3996, D(x): 0.78, D(G(z)): 0.35\n",
            "Epoch [145/300], Step [400/600], d_loss: 0.7519, g_loss: 1.7333, D(x): 0.67, D(G(z)): 0.19\n",
            "Epoch [145/300], Step [600/600], d_loss: 1.0945, g_loss: 1.6493, D(x): 0.66, D(G(z)): 0.34\n",
            "Saving fake_images-0146.png\n",
            "Epoch [146/300], Step [200/600], d_loss: 1.0475, g_loss: 1.0406, D(x): 0.69, D(G(z)): 0.38\n",
            "Epoch [146/300], Step [400/600], d_loss: 0.9429, g_loss: 1.8206, D(x): 0.63, D(G(z)): 0.22\n",
            "Epoch [146/300], Step [600/600], d_loss: 0.9537, g_loss: 1.8096, D(x): 0.62, D(G(z)): 0.25\n",
            "Saving fake_images-0147.png\n",
            "Epoch [147/300], Step [200/600], d_loss: 1.0379, g_loss: 1.6855, D(x): 0.61, D(G(z)): 0.27\n",
            "Epoch [147/300], Step [400/600], d_loss: 0.9891, g_loss: 1.8700, D(x): 0.68, D(G(z)): 0.32\n",
            "Epoch [147/300], Step [600/600], d_loss: 0.8479, g_loss: 1.7108, D(x): 0.74, D(G(z)): 0.31\n",
            "Saving fake_images-0148.png\n",
            "Epoch [148/300], Step [200/600], d_loss: 0.8990, g_loss: 1.6569, D(x): 0.71, D(G(z)): 0.27\n",
            "Epoch [148/300], Step [400/600], d_loss: 1.2074, g_loss: 1.4877, D(x): 0.63, D(G(z)): 0.32\n",
            "Epoch [148/300], Step [600/600], d_loss: 0.8731, g_loss: 1.3086, D(x): 0.73, D(G(z)): 0.34\n",
            "Saving fake_images-0149.png\n",
            "Epoch [149/300], Step [200/600], d_loss: 1.0000, g_loss: 1.7509, D(x): 0.68, D(G(z)): 0.34\n",
            "Epoch [149/300], Step [400/600], d_loss: 1.2295, g_loss: 1.5125, D(x): 0.58, D(G(z)): 0.31\n",
            "Epoch [149/300], Step [600/600], d_loss: 0.8734, g_loss: 1.6652, D(x): 0.71, D(G(z)): 0.31\n",
            "Saving fake_images-0150.png\n",
            "Epoch [150/300], Step [200/600], d_loss: 1.2007, g_loss: 1.4594, D(x): 0.57, D(G(z)): 0.28\n",
            "Epoch [150/300], Step [400/600], d_loss: 0.9464, g_loss: 1.4209, D(x): 0.67, D(G(z)): 0.29\n",
            "Epoch [150/300], Step [600/600], d_loss: 0.8501, g_loss: 1.4239, D(x): 0.70, D(G(z)): 0.29\n",
            "Saving fake_images-0151.png\n",
            "Epoch [151/300], Step [200/600], d_loss: 0.9488, g_loss: 1.5557, D(x): 0.74, D(G(z)): 0.34\n",
            "Epoch [151/300], Step [400/600], d_loss: 0.9277, g_loss: 2.2091, D(x): 0.70, D(G(z)): 0.29\n",
            "Epoch [151/300], Step [600/600], d_loss: 0.9049, g_loss: 1.4470, D(x): 0.79, D(G(z)): 0.37\n",
            "Saving fake_images-0152.png\n",
            "Epoch [152/300], Step [200/600], d_loss: 0.8243, g_loss: 1.4243, D(x): 0.72, D(G(z)): 0.29\n",
            "Epoch [152/300], Step [400/600], d_loss: 1.0185, g_loss: 1.1820, D(x): 0.77, D(G(z)): 0.41\n",
            "Epoch [152/300], Step [600/600], d_loss: 0.9695, g_loss: 1.7845, D(x): 0.62, D(G(z)): 0.21\n",
            "Saving fake_images-0153.png\n",
            "Epoch [153/300], Step [200/600], d_loss: 0.9515, g_loss: 1.7397, D(x): 0.69, D(G(z)): 0.30\n",
            "Epoch [153/300], Step [400/600], d_loss: 0.7930, g_loss: 1.7273, D(x): 0.70, D(G(z)): 0.24\n",
            "Epoch [153/300], Step [600/600], d_loss: 0.7140, g_loss: 2.1037, D(x): 0.81, D(G(z)): 0.30\n",
            "Saving fake_images-0154.png\n",
            "Epoch [154/300], Step [200/600], d_loss: 0.8124, g_loss: 1.7641, D(x): 0.76, D(G(z)): 0.33\n",
            "Epoch [154/300], Step [400/600], d_loss: 0.8170, g_loss: 1.4281, D(x): 0.75, D(G(z)): 0.31\n",
            "Epoch [154/300], Step [600/600], d_loss: 0.9164, g_loss: 1.9399, D(x): 0.68, D(G(z)): 0.25\n",
            "Saving fake_images-0155.png\n",
            "Epoch [155/300], Step [200/600], d_loss: 1.0386, g_loss: 1.6340, D(x): 0.63, D(G(z)): 0.27\n",
            "Epoch [155/300], Step [400/600], d_loss: 0.8111, g_loss: 1.1899, D(x): 0.83, D(G(z)): 0.38\n",
            "Epoch [155/300], Step [600/600], d_loss: 0.9217, g_loss: 1.6223, D(x): 0.73, D(G(z)): 0.32\n",
            "Saving fake_images-0156.png\n",
            "Epoch [156/300], Step [200/600], d_loss: 0.9810, g_loss: 1.8568, D(x): 0.70, D(G(z)): 0.32\n",
            "Epoch [156/300], Step [400/600], d_loss: 1.0794, g_loss: 1.9640, D(x): 0.69, D(G(z)): 0.34\n",
            "Epoch [156/300], Step [600/600], d_loss: 0.7869, g_loss: 1.9708, D(x): 0.69, D(G(z)): 0.22\n",
            "Saving fake_images-0157.png\n",
            "Epoch [157/300], Step [200/600], d_loss: 1.0415, g_loss: 1.6265, D(x): 0.69, D(G(z)): 0.34\n",
            "Epoch [157/300], Step [400/600], d_loss: 0.9066, g_loss: 1.4828, D(x): 0.73, D(G(z)): 0.34\n",
            "Epoch [157/300], Step [600/600], d_loss: 0.9820, g_loss: 1.6664, D(x): 0.65, D(G(z)): 0.28\n",
            "Saving fake_images-0158.png\n",
            "Epoch [158/300], Step [200/600], d_loss: 0.8681, g_loss: 1.5216, D(x): 0.71, D(G(z)): 0.29\n",
            "Epoch [158/300], Step [400/600], d_loss: 0.8648, g_loss: 1.8299, D(x): 0.70, D(G(z)): 0.27\n",
            "Epoch [158/300], Step [600/600], d_loss: 0.6903, g_loss: 2.1491, D(x): 0.73, D(G(z)): 0.21\n",
            "Saving fake_images-0159.png\n",
            "Epoch [159/300], Step [200/600], d_loss: 0.9470, g_loss: 1.4430, D(x): 0.72, D(G(z)): 0.34\n",
            "Epoch [159/300], Step [400/600], d_loss: 1.0523, g_loss: 1.5763, D(x): 0.62, D(G(z)): 0.29\n",
            "Epoch [159/300], Step [600/600], d_loss: 1.0458, g_loss: 1.7558, D(x): 0.65, D(G(z)): 0.30\n",
            "Saving fake_images-0160.png\n",
            "Epoch [160/300], Step [200/600], d_loss: 0.8798, g_loss: 1.5425, D(x): 0.79, D(G(z)): 0.35\n",
            "Epoch [160/300], Step [400/600], d_loss: 0.9175, g_loss: 1.5516, D(x): 0.73, D(G(z)): 0.34\n",
            "Epoch [160/300], Step [600/600], d_loss: 0.8574, g_loss: 1.3637, D(x): 0.72, D(G(z)): 0.30\n",
            "Saving fake_images-0161.png\n",
            "Epoch [161/300], Step [200/600], d_loss: 1.0483, g_loss: 1.5403, D(x): 0.67, D(G(z)): 0.30\n",
            "Epoch [161/300], Step [400/600], d_loss: 0.9837, g_loss: 1.5096, D(x): 0.73, D(G(z)): 0.33\n",
            "Epoch [161/300], Step [600/600], d_loss: 0.7304, g_loss: 1.6357, D(x): 0.73, D(G(z)): 0.23\n",
            "Saving fake_images-0162.png\n",
            "Epoch [162/300], Step [200/600], d_loss: 0.9975, g_loss: 1.4587, D(x): 0.65, D(G(z)): 0.30\n",
            "Epoch [162/300], Step [400/600], d_loss: 0.8867, g_loss: 1.5818, D(x): 0.72, D(G(z)): 0.31\n",
            "Epoch [162/300], Step [600/600], d_loss: 0.8084, g_loss: 1.9085, D(x): 0.72, D(G(z)): 0.26\n",
            "Saving fake_images-0163.png\n",
            "Epoch [163/300], Step [200/600], d_loss: 0.9792, g_loss: 1.3481, D(x): 0.64, D(G(z)): 0.26\n",
            "Epoch [163/300], Step [400/600], d_loss: 1.0983, g_loss: 1.2683, D(x): 0.70, D(G(z)): 0.40\n",
            "Epoch [163/300], Step [600/600], d_loss: 0.9302, g_loss: 1.7472, D(x): 0.69, D(G(z)): 0.27\n",
            "Saving fake_images-0164.png\n",
            "Epoch [164/300], Step [200/600], d_loss: 0.9131, g_loss: 1.8161, D(x): 0.76, D(G(z)): 0.35\n",
            "Epoch [164/300], Step [400/600], d_loss: 0.9384, g_loss: 1.5048, D(x): 0.68, D(G(z)): 0.29\n",
            "Epoch [164/300], Step [600/600], d_loss: 1.0462, g_loss: 1.4868, D(x): 0.68, D(G(z)): 0.34\n",
            "Saving fake_images-0165.png\n",
            "Epoch [165/300], Step [200/600], d_loss: 0.9417, g_loss: 1.5219, D(x): 0.64, D(G(z)): 0.28\n",
            "Epoch [165/300], Step [400/600], d_loss: 1.0849, g_loss: 1.9060, D(x): 0.66, D(G(z)): 0.35\n",
            "Epoch [165/300], Step [600/600], d_loss: 0.8636, g_loss: 1.5430, D(x): 0.70, D(G(z)): 0.30\n",
            "Saving fake_images-0166.png\n",
            "Epoch [166/300], Step [200/600], d_loss: 1.0684, g_loss: 1.6193, D(x): 0.63, D(G(z)): 0.30\n",
            "Epoch [166/300], Step [400/600], d_loss: 0.8426, g_loss: 1.5460, D(x): 0.80, D(G(z)): 0.37\n",
            "Epoch [166/300], Step [600/600], d_loss: 0.9798, g_loss: 1.4189, D(x): 0.73, D(G(z)): 0.34\n",
            "Saving fake_images-0167.png\n",
            "Epoch [167/300], Step [200/600], d_loss: 1.0520, g_loss: 1.4598, D(x): 0.62, D(G(z)): 0.27\n",
            "Epoch [167/300], Step [400/600], d_loss: 0.9036, g_loss: 1.5271, D(x): 0.76, D(G(z)): 0.37\n",
            "Epoch [167/300], Step [600/600], d_loss: 0.8135, g_loss: 1.6818, D(x): 0.73, D(G(z)): 0.29\n",
            "Saving fake_images-0168.png\n",
            "Epoch [168/300], Step [200/600], d_loss: 0.9210, g_loss: 1.3399, D(x): 0.65, D(G(z)): 0.29\n",
            "Epoch [168/300], Step [400/600], d_loss: 1.0955, g_loss: 1.7840, D(x): 0.65, D(G(z)): 0.30\n",
            "Epoch [168/300], Step [600/600], d_loss: 1.2114, g_loss: 1.6536, D(x): 0.55, D(G(z)): 0.23\n",
            "Saving fake_images-0169.png\n",
            "Epoch [169/300], Step [200/600], d_loss: 1.0996, g_loss: 1.2715, D(x): 0.69, D(G(z)): 0.38\n",
            "Epoch [169/300], Step [400/600], d_loss: 1.0321, g_loss: 1.3775, D(x): 0.66, D(G(z)): 0.33\n",
            "Epoch [169/300], Step [600/600], d_loss: 0.9766, g_loss: 1.3241, D(x): 0.73, D(G(z)): 0.38\n",
            "Saving fake_images-0170.png\n",
            "Epoch [170/300], Step [200/600], d_loss: 0.9320, g_loss: 1.5283, D(x): 0.70, D(G(z)): 0.31\n",
            "Epoch [170/300], Step [400/600], d_loss: 0.8200, g_loss: 1.5690, D(x): 0.76, D(G(z)): 0.33\n",
            "Epoch [170/300], Step [600/600], d_loss: 0.9176, g_loss: 1.6282, D(x): 0.64, D(G(z)): 0.23\n",
            "Saving fake_images-0171.png\n",
            "Epoch [171/300], Step [200/600], d_loss: 0.8001, g_loss: 1.5578, D(x): 0.77, D(G(z)): 0.32\n",
            "Epoch [171/300], Step [400/600], d_loss: 0.7514, g_loss: 1.7228, D(x): 0.75, D(G(z)): 0.26\n",
            "Epoch [171/300], Step [600/600], d_loss: 0.8062, g_loss: 2.1593, D(x): 0.69, D(G(z)): 0.24\n",
            "Saving fake_images-0172.png\n",
            "Epoch [172/300], Step [200/600], d_loss: 0.9836, g_loss: 1.5186, D(x): 0.68, D(G(z)): 0.34\n",
            "Epoch [172/300], Step [400/600], d_loss: 0.9390, g_loss: 1.7847, D(x): 0.71, D(G(z)): 0.31\n",
            "Epoch [172/300], Step [600/600], d_loss: 0.9442, g_loss: 1.8058, D(x): 0.71, D(G(z)): 0.31\n",
            "Saving fake_images-0173.png\n",
            "Epoch [173/300], Step [200/600], d_loss: 0.9785, g_loss: 1.8987, D(x): 0.62, D(G(z)): 0.24\n",
            "Epoch [173/300], Step [400/600], d_loss: 0.8179, g_loss: 1.7262, D(x): 0.69, D(G(z)): 0.25\n",
            "Epoch [173/300], Step [600/600], d_loss: 0.9611, g_loss: 1.3117, D(x): 0.70, D(G(z)): 0.34\n",
            "Saving fake_images-0174.png\n",
            "Epoch [174/300], Step [200/600], d_loss: 1.0106, g_loss: 1.2930, D(x): 0.68, D(G(z)): 0.35\n",
            "Epoch [174/300], Step [400/600], d_loss: 0.9421, g_loss: 1.3837, D(x): 0.63, D(G(z)): 0.25\n",
            "Epoch [174/300], Step [600/600], d_loss: 0.9988, g_loss: 1.6533, D(x): 0.63, D(G(z)): 0.27\n",
            "Saving fake_images-0175.png\n",
            "Epoch [175/300], Step [200/600], d_loss: 0.9134, g_loss: 1.5811, D(x): 0.65, D(G(z)): 0.27\n",
            "Epoch [175/300], Step [400/600], d_loss: 0.9587, g_loss: 1.9108, D(x): 0.73, D(G(z)): 0.34\n",
            "Epoch [175/300], Step [600/600], d_loss: 1.0991, g_loss: 1.3160, D(x): 0.65, D(G(z)): 0.32\n",
            "Saving fake_images-0176.png\n",
            "Epoch [176/300], Step [200/600], d_loss: 0.8836, g_loss: 1.7140, D(x): 0.72, D(G(z)): 0.28\n",
            "Epoch [176/300], Step [400/600], d_loss: 1.1557, g_loss: 1.5289, D(x): 0.67, D(G(z)): 0.39\n",
            "Epoch [176/300], Step [600/600], d_loss: 1.0237, g_loss: 1.5482, D(x): 0.65, D(G(z)): 0.31\n",
            "Saving fake_images-0177.png\n",
            "Epoch [177/300], Step [200/600], d_loss: 0.7421, g_loss: 1.9473, D(x): 0.78, D(G(z)): 0.29\n",
            "Epoch [177/300], Step [400/600], d_loss: 1.3532, g_loss: 1.4390, D(x): 0.58, D(G(z)): 0.33\n",
            "Epoch [177/300], Step [600/600], d_loss: 0.9370, g_loss: 1.5332, D(x): 0.63, D(G(z)): 0.23\n",
            "Saving fake_images-0178.png\n",
            "Epoch [178/300], Step [200/600], d_loss: 1.0182, g_loss: 1.6079, D(x): 0.66, D(G(z)): 0.29\n",
            "Epoch [178/300], Step [400/600], d_loss: 0.8380, g_loss: 1.2970, D(x): 0.75, D(G(z)): 0.32\n",
            "Epoch [178/300], Step [600/600], d_loss: 0.9068, g_loss: 1.4994, D(x): 0.71, D(G(z)): 0.31\n",
            "Saving fake_images-0179.png\n",
            "Epoch [179/300], Step [200/600], d_loss: 0.8241, g_loss: 1.6900, D(x): 0.72, D(G(z)): 0.30\n",
            "Epoch [179/300], Step [400/600], d_loss: 0.9849, g_loss: 1.5143, D(x): 0.73, D(G(z)): 0.38\n",
            "Epoch [179/300], Step [600/600], d_loss: 0.9049, g_loss: 1.4713, D(x): 0.76, D(G(z)): 0.37\n",
            "Saving fake_images-0180.png\n",
            "Epoch [180/300], Step [200/600], d_loss: 0.8422, g_loss: 1.2219, D(x): 0.75, D(G(z)): 0.33\n",
            "Epoch [180/300], Step [400/600], d_loss: 1.0253, g_loss: 1.5220, D(x): 0.70, D(G(z)): 0.36\n",
            "Epoch [180/300], Step [600/600], d_loss: 1.0478, g_loss: 1.4062, D(x): 0.67, D(G(z)): 0.36\n",
            "Saving fake_images-0181.png\n",
            "Epoch [181/300], Step [200/600], d_loss: 1.0633, g_loss: 1.0923, D(x): 0.68, D(G(z)): 0.34\n",
            "Epoch [181/300], Step [400/600], d_loss: 1.1153, g_loss: 1.5013, D(x): 0.64, D(G(z)): 0.33\n",
            "Epoch [181/300], Step [600/600], d_loss: 0.9835, g_loss: 1.0192, D(x): 0.72, D(G(z)): 0.37\n",
            "Saving fake_images-0182.png\n",
            "Epoch [182/300], Step [200/600], d_loss: 1.1074, g_loss: 1.5184, D(x): 0.59, D(G(z)): 0.30\n",
            "Epoch [182/300], Step [400/600], d_loss: 0.9530, g_loss: 1.6039, D(x): 0.66, D(G(z)): 0.30\n",
            "Epoch [182/300], Step [600/600], d_loss: 0.8666, g_loss: 1.8133, D(x): 0.76, D(G(z)): 0.32\n",
            "Saving fake_images-0183.png\n",
            "Epoch [183/300], Step [200/600], d_loss: 0.9830, g_loss: 1.5091, D(x): 0.70, D(G(z)): 0.33\n",
            "Epoch [183/300], Step [400/600], d_loss: 1.0346, g_loss: 1.4027, D(x): 0.64, D(G(z)): 0.32\n",
            "Epoch [183/300], Step [600/600], d_loss: 0.8637, g_loss: 1.5129, D(x): 0.75, D(G(z)): 0.32\n",
            "Saving fake_images-0184.png\n",
            "Epoch [184/300], Step [200/600], d_loss: 1.0042, g_loss: 1.4569, D(x): 0.64, D(G(z)): 0.28\n",
            "Epoch [184/300], Step [400/600], d_loss: 0.9196, g_loss: 1.8221, D(x): 0.71, D(G(z)): 0.33\n",
            "Epoch [184/300], Step [600/600], d_loss: 0.8792, g_loss: 1.5986, D(x): 0.77, D(G(z)): 0.37\n",
            "Saving fake_images-0185.png\n",
            "Epoch [185/300], Step [200/600], d_loss: 0.8535, g_loss: 1.6140, D(x): 0.69, D(G(z)): 0.28\n",
            "Epoch [185/300], Step [400/600], d_loss: 0.8501, g_loss: 1.7147, D(x): 0.71, D(G(z)): 0.26\n",
            "Epoch [185/300], Step [600/600], d_loss: 0.9027, g_loss: 1.4877, D(x): 0.72, D(G(z)): 0.31\n",
            "Saving fake_images-0186.png\n",
            "Epoch [186/300], Step [200/600], d_loss: 0.8106, g_loss: 1.5133, D(x): 0.76, D(G(z)): 0.32\n",
            "Epoch [186/300], Step [400/600], d_loss: 0.9323, g_loss: 1.5292, D(x): 0.67, D(G(z)): 0.27\n",
            "Epoch [186/300], Step [600/600], d_loss: 0.9290, g_loss: 1.2514, D(x): 0.68, D(G(z)): 0.30\n",
            "Saving fake_images-0187.png\n",
            "Epoch [187/300], Step [200/600], d_loss: 0.9399, g_loss: 1.4250, D(x): 0.74, D(G(z)): 0.35\n",
            "Epoch [187/300], Step [400/600], d_loss: 0.9627, g_loss: 1.7660, D(x): 0.71, D(G(z)): 0.34\n",
            "Epoch [187/300], Step [600/600], d_loss: 0.8412, g_loss: 1.5574, D(x): 0.70, D(G(z)): 0.26\n",
            "Saving fake_images-0188.png\n",
            "Epoch [188/300], Step [200/600], d_loss: 0.8733, g_loss: 1.3921, D(x): 0.73, D(G(z)): 0.33\n",
            "Epoch [188/300], Step [400/600], d_loss: 1.1564, g_loss: 1.4160, D(x): 0.67, D(G(z)): 0.37\n",
            "Epoch [188/300], Step [600/600], d_loss: 1.1212, g_loss: 1.4661, D(x): 0.63, D(G(z)): 0.35\n",
            "Saving fake_images-0189.png\n",
            "Epoch [189/300], Step [200/600], d_loss: 1.1956, g_loss: 1.6298, D(x): 0.55, D(G(z)): 0.27\n",
            "Epoch [189/300], Step [400/600], d_loss: 0.9393, g_loss: 1.2447, D(x): 0.69, D(G(z)): 0.33\n",
            "Epoch [189/300], Step [600/600], d_loss: 1.0209, g_loss: 1.2081, D(x): 0.66, D(G(z)): 0.33\n",
            "Saving fake_images-0190.png\n",
            "Epoch [190/300], Step [200/600], d_loss: 0.9444, g_loss: 1.7347, D(x): 0.68, D(G(z)): 0.30\n",
            "Epoch [190/300], Step [400/600], d_loss: 0.8071, g_loss: 1.6567, D(x): 0.72, D(G(z)): 0.28\n",
            "Epoch [190/300], Step [600/600], d_loss: 0.9013, g_loss: 1.7973, D(x): 0.64, D(G(z)): 0.23\n",
            "Saving fake_images-0191.png\n",
            "Epoch [191/300], Step [200/600], d_loss: 0.8217, g_loss: 1.8244, D(x): 0.74, D(G(z)): 0.31\n",
            "Epoch [191/300], Step [400/600], d_loss: 1.0512, g_loss: 1.4148, D(x): 0.63, D(G(z)): 0.28\n",
            "Epoch [191/300], Step [600/600], d_loss: 0.7819, g_loss: 1.9540, D(x): 0.69, D(G(z)): 0.24\n",
            "Saving fake_images-0192.png\n",
            "Epoch [192/300], Step [200/600], d_loss: 0.9312, g_loss: 1.4713, D(x): 0.70, D(G(z)): 0.33\n",
            "Epoch [192/300], Step [400/600], d_loss: 1.2355, g_loss: 1.5189, D(x): 0.58, D(G(z)): 0.31\n",
            "Epoch [192/300], Step [600/600], d_loss: 1.0760, g_loss: 1.6816, D(x): 0.61, D(G(z)): 0.29\n",
            "Saving fake_images-0193.png\n",
            "Epoch [193/300], Step [200/600], d_loss: 0.9045, g_loss: 1.4074, D(x): 0.67, D(G(z)): 0.26\n",
            "Epoch [193/300], Step [400/600], d_loss: 0.9539, g_loss: 1.3575, D(x): 0.66, D(G(z)): 0.29\n",
            "Epoch [193/300], Step [600/600], d_loss: 0.8549, g_loss: 1.4934, D(x): 0.75, D(G(z)): 0.32\n",
            "Saving fake_images-0194.png\n",
            "Epoch [194/300], Step [200/600], d_loss: 1.0717, g_loss: 1.2771, D(x): 0.68, D(G(z)): 0.37\n",
            "Epoch [194/300], Step [400/600], d_loss: 1.2238, g_loss: 1.3499, D(x): 0.57, D(G(z)): 0.29\n",
            "Epoch [194/300], Step [600/600], d_loss: 1.1524, g_loss: 1.2913, D(x): 0.68, D(G(z)): 0.40\n",
            "Saving fake_images-0195.png\n",
            "Epoch [195/300], Step [200/600], d_loss: 0.8750, g_loss: 1.4895, D(x): 0.71, D(G(z)): 0.30\n",
            "Epoch [195/300], Step [400/600], d_loss: 0.9151, g_loss: 1.2278, D(x): 0.77, D(G(z)): 0.37\n",
            "Epoch [195/300], Step [600/600], d_loss: 0.8548, g_loss: 1.5437, D(x): 0.74, D(G(z)): 0.33\n",
            "Saving fake_images-0196.png\n",
            "Epoch [196/300], Step [200/600], d_loss: 0.9912, g_loss: 1.1385, D(x): 0.70, D(G(z)): 0.36\n",
            "Epoch [196/300], Step [400/600], d_loss: 1.0601, g_loss: 1.4531, D(x): 0.70, D(G(z)): 0.37\n",
            "Epoch [196/300], Step [600/600], d_loss: 1.2268, g_loss: 1.6566, D(x): 0.50, D(G(z)): 0.24\n",
            "Saving fake_images-0197.png\n",
            "Epoch [197/300], Step [200/600], d_loss: 0.9107, g_loss: 1.6766, D(x): 0.68, D(G(z)): 0.31\n",
            "Epoch [197/300], Step [400/600], d_loss: 0.9624, g_loss: 1.5810, D(x): 0.67, D(G(z)): 0.30\n",
            "Epoch [197/300], Step [600/600], d_loss: 1.0058, g_loss: 1.6625, D(x): 0.76, D(G(z)): 0.40\n",
            "Saving fake_images-0198.png\n",
            "Epoch [198/300], Step [200/600], d_loss: 0.8291, g_loss: 1.5322, D(x): 0.72, D(G(z)): 0.30\n",
            "Epoch [198/300], Step [400/600], d_loss: 1.0327, g_loss: 1.6402, D(x): 0.64, D(G(z)): 0.31\n",
            "Epoch [198/300], Step [600/600], d_loss: 0.9371, g_loss: 1.3226, D(x): 0.74, D(G(z)): 0.35\n",
            "Saving fake_images-0199.png\n",
            "Epoch [199/300], Step [200/600], d_loss: 0.9346, g_loss: 1.5129, D(x): 0.72, D(G(z)): 0.32\n",
            "Epoch [199/300], Step [400/600], d_loss: 1.0780, g_loss: 1.4713, D(x): 0.69, D(G(z)): 0.38\n",
            "Epoch [199/300], Step [600/600], d_loss: 0.9957, g_loss: 1.6053, D(x): 0.61, D(G(z)): 0.28\n",
            "Saving fake_images-0200.png\n",
            "Epoch [200/300], Step [200/600], d_loss: 0.8930, g_loss: 1.3964, D(x): 0.72, D(G(z)): 0.32\n",
            "Epoch [200/300], Step [400/600], d_loss: 1.0830, g_loss: 1.6166, D(x): 0.64, D(G(z)): 0.32\n",
            "Epoch [200/300], Step [600/600], d_loss: 0.9828, g_loss: 1.5032, D(x): 0.67, D(G(z)): 0.30\n",
            "Saving fake_images-0201.png\n",
            "Epoch [201/300], Step [200/600], d_loss: 0.8051, g_loss: 1.8523, D(x): 0.70, D(G(z)): 0.27\n",
            "Epoch [201/300], Step [400/600], d_loss: 0.9457, g_loss: 1.5647, D(x): 0.74, D(G(z)): 0.36\n",
            "Epoch [201/300], Step [600/600], d_loss: 1.1477, g_loss: 1.2246, D(x): 0.65, D(G(z)): 0.36\n",
            "Saving fake_images-0202.png\n",
            "Epoch [202/300], Step [200/600], d_loss: 0.8016, g_loss: 1.4503, D(x): 0.75, D(G(z)): 0.31\n",
            "Epoch [202/300], Step [400/600], d_loss: 0.9806, g_loss: 1.3332, D(x): 0.81, D(G(z)): 0.44\n",
            "Epoch [202/300], Step [600/600], d_loss: 0.7984, g_loss: 1.4285, D(x): 0.74, D(G(z)): 0.29\n",
            "Saving fake_images-0203.png\n",
            "Epoch [203/300], Step [200/600], d_loss: 0.8221, g_loss: 1.4477, D(x): 0.76, D(G(z)): 0.34\n",
            "Epoch [203/300], Step [400/600], d_loss: 1.0083, g_loss: 1.1838, D(x): 0.64, D(G(z)): 0.30\n",
            "Epoch [203/300], Step [600/600], d_loss: 0.9237, g_loss: 1.8246, D(x): 0.71, D(G(z)): 0.32\n",
            "Saving fake_images-0204.png\n",
            "Epoch [204/300], Step [200/600], d_loss: 1.1306, g_loss: 1.1983, D(x): 0.68, D(G(z)): 0.39\n",
            "Epoch [204/300], Step [400/600], d_loss: 1.0260, g_loss: 1.7735, D(x): 0.66, D(G(z)): 0.30\n",
            "Epoch [204/300], Step [600/600], d_loss: 0.9899, g_loss: 1.6750, D(x): 0.67, D(G(z)): 0.34\n",
            "Saving fake_images-0205.png\n",
            "Epoch [205/300], Step [200/600], d_loss: 1.0547, g_loss: 1.4109, D(x): 0.72, D(G(z)): 0.38\n",
            "Epoch [205/300], Step [400/600], d_loss: 1.0132, g_loss: 1.6458, D(x): 0.58, D(G(z)): 0.24\n",
            "Epoch [205/300], Step [600/600], d_loss: 1.0425, g_loss: 1.3615, D(x): 0.73, D(G(z)): 0.41\n",
            "Saving fake_images-0206.png\n",
            "Epoch [206/300], Step [200/600], d_loss: 0.9287, g_loss: 1.1316, D(x): 0.79, D(G(z)): 0.42\n",
            "Epoch [206/300], Step [400/600], d_loss: 1.2019, g_loss: 1.4148, D(x): 0.58, D(G(z)): 0.31\n",
            "Epoch [206/300], Step [600/600], d_loss: 1.1092, g_loss: 1.3920, D(x): 0.64, D(G(z)): 0.34\n",
            "Saving fake_images-0207.png\n",
            "Epoch [207/300], Step [200/600], d_loss: 1.0550, g_loss: 1.5585, D(x): 0.67, D(G(z)): 0.32\n",
            "Epoch [207/300], Step [400/600], d_loss: 1.1589, g_loss: 1.2157, D(x): 0.58, D(G(z)): 0.30\n",
            "Epoch [207/300], Step [600/600], d_loss: 1.1626, g_loss: 1.2508, D(x): 0.65, D(G(z)): 0.34\n",
            "Saving fake_images-0208.png\n",
            "Epoch [208/300], Step [200/600], d_loss: 1.1880, g_loss: 1.0327, D(x): 0.61, D(G(z)): 0.33\n"
          ]
        }
      ],
      "source": [
        "%%time\n",
        "\n",
        "num_epochs = 300\n",
        "total_step = len(data_loader)\n",
        "d_losses, g_losses, real_scores, fake_scores = [], [], [], []\n",
        "\n",
        "for epoch in range(num_epochs):\n",
        "    for i, (images, _) in enumerate(data_loader):\n",
        "        # Load a batch & transform to vectors\n",
        "        images = images.reshape(batch_size, -1).to(device)\n",
        "        \n",
        "        # Train the discriminator and generator\n",
        "        d_loss, real_score, fake_score = train_discriminator(images)\n",
        "        g_loss, fake_images = train_generator()\n",
        "        \n",
        "        # Inspect the losses\n",
        "        if (i+1) % 200 == 0:\n",
        "            d_losses.append(d_loss.item())\n",
        "            g_losses.append(g_loss.item())\n",
        "            real_scores.append(real_score.mean().item())\n",
        "            fake_scores.append(fake_score.mean().item())\n",
        "            print('Epoch [{}/{}], Step [{}/{}], d_loss: {:.4f}, g_loss: {:.4f}, D(x): {:.2f}, D(G(z)): {:.2f}' \n",
        "                  .format(epoch, num_epochs, i+1, total_step, d_loss.item(), g_loss.item(), \n",
        "                          real_score.mean().item(), fake_score.mean().item()))\n",
        "        \n",
        "    # Sample and save images\n",
        "    save_fake_images(epoch+1)"
      ]
    },
    {
      "cell_type": "code",
      "execution_count": null,
      "metadata": {
        "colab": {
          "background_save": true
        },
        "id": "gCpmMD0SULmy"
      },
      "outputs": [],
      "source": [
        "#Save the model checkpoints\n",
        "torch.save(G.state_dict(), 'G.ckpt')\n",
        "torch.save(D.state_dict(), 'D.ckpt')"
      ]
    },
    {
      "cell_type": "code",
      "execution_count": null,
      "metadata": {
        "colab": {
          "background_save": true
        },
        "id": "AzlY_lLecZxM",
        "outputId": "cd23ce37-799b-4f4c-9243-46b6954d6da1"
      },
      "outputs": [
        {
          "data": {
            "image/png": "[encoded data removed]",
            "text/plain": [
              "<IPython.core.display.Image object>"
            ]
          },
          "execution_count": null,
          "metadata": {},
          "output_type": "execute_result"
        }
      ],
      "source": [
        "Image('./samples/fake_images-0010.png')"
      ]
    },
    {
      "cell_type": "code",
      "execution_count": null,
      "metadata": {
        "colab": {
          "background_save": true
        },
        "id": "-UnPb2GvcdHj"
      },
      "outputs": [],
      "source": [
        "#Image('./samples/fake_images-0050.png')"
      ]
    },
    {
      "cell_type": "code",
      "execution_count": null,
      "metadata": {
        "colab": {
          "background_save": true
        },
        "id": "PJZ927T2chMI"
      },
      "outputs": [],
      "source": [
        "#Image('./samples/fake_images-0300.png')"
      ]
    },
    {
      "cell_type": "code",
      "execution_count": null,
      "metadata": {
        "colab": {
          "background_save": true
        },
        "id": "Gt7dWkFUc2mq",
        "outputId": "4d3c5fcb-f0af-401d-baad-07aae1d6761b"
      },
      "outputs": [
        {
          "data": {
            "text/plain": [
              "Text(0.5, 1.0, 'Losses')"
            ]
          },
          "execution_count": null,
          "metadata": {},
          "output_type": "execute_result"
        },
        {
          "data": {
            "image/png": "[encoded data removed]",
            "text/plain": [
              "<Figure size 432x288 with 1 Axes>"
            ]
          },
          "metadata": {},
          "output_type": "display_data"
        }
      ],
      "source": [
        "#Plotting yhr losses for generator and discriminator\n",
        "plt.plot(d_losses, '-')\n",
        "plt.plot(g_losses, '-')\n",
        "plt.xlabel('epoch')\n",
        "plt.ylabel('loss')\n",
        "plt.legend(['discriminator', 'generator'])\n",
        "plt.title('Losses')"
      ]
    },
    {
      "cell_type": "code",
      "execution_count": null,
      "metadata": {
        "colab": {
          "background_save": true
        },
        "id": "aPWv2XWBdZsh",
        "outputId": "91c586d8-47ee-49a9-81d3-857c8c82aa2f"
      },
      "outputs": [
        {
          "ename": "RuntimeError",
          "evalue": "ignored",
          "output_type": "error",
          "traceback": [
            "\u001b[0;31m---------------------------------------------------------------------------\u001b[0m",
            "\u001b[0;31mRuntimeError\u001b[0m                              Traceback (most recent call last)",
            "\u001b[0;32m<ipython-input-55-7a23b151d6ec>\u001b[0m in \u001b[0;36m<module>\u001b[0;34m()\u001b[0m\n\u001b[1;32m      1\u001b[0m \u001b[0;31m#Plotting the real and fake score\u001b[0m\u001b[0;34m\u001b[0m\u001b[0;34m\u001b[0m\u001b[0;34m\u001b[0m\u001b[0m\n\u001b[0;32m----> 2\u001b[0;31m \u001b[0mplt\u001b[0m\u001b[0;34m.\u001b[0m\u001b[0mplot\u001b[0m\u001b[0;34m(\u001b[0m\u001b[0mreal_score\u001b[0m\u001b[0;34m,\u001b[0m \u001b[0;34m'-'\u001b[0m\u001b[0;34m)\u001b[0m\u001b[0;34m\u001b[0m\u001b[0;34m\u001b[0m\u001b[0m\n\u001b[0m\u001b[1;32m      3\u001b[0m \u001b[0mplt\u001b[0m\u001b[0;34m.\u001b[0m\u001b[0mplot\u001b[0m\u001b[0;34m(\u001b[0m\u001b[0mfake_score\u001b[0m\u001b[0;34m,\u001b[0m \u001b[0;34m'-'\u001b[0m\u001b[0;34m)\u001b[0m\u001b[0;34m\u001b[0m\u001b[0;34m\u001b[0m\u001b[0m\n\u001b[1;32m      4\u001b[0m \u001b[0mplt\u001b[0m\u001b[0;34m.\u001b[0m\u001b[0mxlabel\u001b[0m\u001b[0;34m(\u001b[0m\u001b[0;34m'epoch'\u001b[0m\u001b[0;34m)\u001b[0m\u001b[0;34m\u001b[0m\u001b[0;34m\u001b[0m\u001b[0m\n\u001b[1;32m      5\u001b[0m \u001b[0mplt\u001b[0m\u001b[0;34m.\u001b[0m\u001b[0mylabel\u001b[0m\u001b[0;34m(\u001b[0m\u001b[0;34m'score'\u001b[0m\u001b[0;34m)\u001b[0m\u001b[0;34m\u001b[0m\u001b[0;34m\u001b[0m\u001b[0m\n",
            "\u001b[0;32m/usr/local/lib/python3.7/dist-packages/matplotlib/pyplot.py\u001b[0m in \u001b[0;36mplot\u001b[0;34m(scalex, scaley, data, *args, **kwargs)\u001b[0m\n\u001b[1;32m   2761\u001b[0m     return gca().plot(\n\u001b[1;32m   2762\u001b[0m         *args, scalex=scalex, scaley=scaley, **({\"data\": data} if data\n\u001b[0;32m-> 2763\u001b[0;31m         is not None else {}), **kwargs)\n\u001b[0m\u001b[1;32m   2764\u001b[0m \u001b[0;34m\u001b[0m\u001b[0m\n\u001b[1;32m   2765\u001b[0m \u001b[0;34m\u001b[0m\u001b[0m\n",
            "\u001b[0;32m/usr/local/lib/python3.7/dist-packages/matplotlib/axes/_axes.py\u001b[0m in \u001b[0;36mplot\u001b[0;34m(self, scalex, scaley, data, *args, **kwargs)\u001b[0m\n\u001b[1;32m   1647\u001b[0m         \u001b[0mlines\u001b[0m \u001b[0;34m=\u001b[0m \u001b[0;34m[\u001b[0m\u001b[0;34m*\u001b[0m\u001b[0mself\u001b[0m\u001b[0;34m.\u001b[0m\u001b[0m_get_lines\u001b[0m\u001b[0;34m(\u001b[0m\u001b[0;34m*\u001b[0m\u001b[0margs\u001b[0m\u001b[0;34m,\u001b[0m \u001b[0mdata\u001b[0m\u001b[0;34m=\u001b[0m\u001b[0mdata\u001b[0m\u001b[0;34m,\u001b[0m \u001b[0;34m**\u001b[0m\u001b[0mkwargs\u001b[0m\u001b[0;34m)\u001b[0m\u001b[0;34m]\u001b[0m\u001b[0;34m\u001b[0m\u001b[0;34m\u001b[0m\u001b[0m\n\u001b[1;32m   1648\u001b[0m         \u001b[0;32mfor\u001b[0m \u001b[0mline\u001b[0m \u001b[0;32min\u001b[0m \u001b[0mlines\u001b[0m\u001b[0;34m:\u001b[0m\u001b[0;34m\u001b[0m\u001b[0;34m\u001b[0m\u001b[0m\n\u001b[0;32m-> 1649\u001b[0;31m             \u001b[0mself\u001b[0m\u001b[0;34m.\u001b[0m\u001b[0madd_line\u001b[0m\u001b[0;34m(\u001b[0m\u001b[0mline\u001b[0m\u001b[0;34m)\u001b[0m\u001b[0;34m\u001b[0m\u001b[0;34m\u001b[0m\u001b[0m\n\u001b[0m\u001b[1;32m   1650\u001b[0m         \u001b[0mself\u001b[0m\u001b[0;34m.\u001b[0m\u001b[0m_request_autoscale_view\u001b[0m\u001b[0;34m(\u001b[0m\u001b[0mscalex\u001b[0m\u001b[0;34m=\u001b[0m\u001b[0mscalex\u001b[0m\u001b[0;34m,\u001b[0m \u001b[0mscaley\u001b[0m\u001b[0;34m=\u001b[0m\u001b[0mscaley\u001b[0m\u001b[0;34m)\u001b[0m\u001b[0;34m\u001b[0m\u001b[0;34m\u001b[0m\u001b[0m\n\u001b[1;32m   1651\u001b[0m         \u001b[0;32mreturn\u001b[0m \u001b[0mlines\u001b[0m\u001b[0;34m\u001b[0m\u001b[0;34m\u001b[0m\u001b[0m\n",
            "\u001b[0;32m/usr/local/lib/python3.7/dist-packages/matplotlib/axes/_base.py\u001b[0m in \u001b[0;36madd_line\u001b[0;34m(self, line)\u001b[0m\n\u001b[1;32m   1848\u001b[0m             \u001b[0mline\u001b[0m\u001b[0;34m.\u001b[0m\u001b[0mset_clip_path\u001b[0m\u001b[0;34m(\u001b[0m\u001b[0mself\u001b[0m\u001b[0;34m.\u001b[0m\u001b[0mpatch\u001b[0m\u001b[0;34m)\u001b[0m\u001b[0;34m\u001b[0m\u001b[0;34m\u001b[0m\u001b[0m\n\u001b[1;32m   1849\u001b[0m \u001b[0;34m\u001b[0m\u001b[0m\n\u001b[0;32m-> 1850\u001b[0;31m         \u001b[0mself\u001b[0m\u001b[0;34m.\u001b[0m\u001b[0m_update_line_limits\u001b[0m\u001b[0;34m(\u001b[0m\u001b[0mline\u001b[0m\u001b[0;34m)\u001b[0m\u001b[0;34m\u001b[0m\u001b[0;34m\u001b[0m\u001b[0m\n\u001b[0m\u001b[1;32m   1851\u001b[0m         \u001b[0;32mif\u001b[0m \u001b[0;32mnot\u001b[0m \u001b[0mline\u001b[0m\u001b[0;34m.\u001b[0m\u001b[0mget_label\u001b[0m\u001b[0;34m(\u001b[0m\u001b[0;34m)\u001b[0m\u001b[0;34m:\u001b[0m\u001b[0;34m\u001b[0m\u001b[0;34m\u001b[0m\u001b[0m\n\u001b[1;32m   1852\u001b[0m             \u001b[0mline\u001b[0m\u001b[0;34m.\u001b[0m\u001b[0mset_label\u001b[0m\u001b[0;34m(\u001b[0m\u001b[0;34m'_line%d'\u001b[0m \u001b[0;34m%\u001b[0m \u001b[0mlen\u001b[0m\u001b[0;34m(\u001b[0m\u001b[0mself\u001b[0m\u001b[0;34m.\u001b[0m\u001b[0mlines\u001b[0m\u001b[0;34m)\u001b[0m\u001b[0;34m)\u001b[0m\u001b[0;34m\u001b[0m\u001b[0;34m\u001b[0m\u001b[0m\n",
            "\u001b[0;32m/usr/local/lib/python3.7/dist-packages/matplotlib/axes/_base.py\u001b[0m in \u001b[0;36m_update_line_limits\u001b[0;34m(self, line)\u001b[0m\n\u001b[1;32m   1870\u001b[0m         \u001b[0mFigures\u001b[0m \u001b[0mout\u001b[0m \u001b[0mthe\u001b[0m \u001b[0mdata\u001b[0m \u001b[0mlimit\u001b[0m \u001b[0mof\u001b[0m \u001b[0mthe\u001b[0m \u001b[0mgiven\u001b[0m \u001b[0mline\u001b[0m\u001b[0;34m,\u001b[0m \u001b[0mupdating\u001b[0m \u001b[0mself\u001b[0m\u001b[0;34m.\u001b[0m\u001b[0mdataLim\u001b[0m\u001b[0;34m.\u001b[0m\u001b[0;34m\u001b[0m\u001b[0;34m\u001b[0m\u001b[0m\n\u001b[1;32m   1871\u001b[0m         \"\"\"\n\u001b[0;32m-> 1872\u001b[0;31m         \u001b[0mpath\u001b[0m \u001b[0;34m=\u001b[0m \u001b[0mline\u001b[0m\u001b[0;34m.\u001b[0m\u001b[0mget_path\u001b[0m\u001b[0;34m(\u001b[0m\u001b[0;34m)\u001b[0m\u001b[0;34m\u001b[0m\u001b[0;34m\u001b[0m\u001b[0m\n\u001b[0m\u001b[1;32m   1873\u001b[0m         \u001b[0;32mif\u001b[0m \u001b[0mpath\u001b[0m\u001b[0;34m.\u001b[0m\u001b[0mvertices\u001b[0m\u001b[0;34m.\u001b[0m\u001b[0msize\u001b[0m \u001b[0;34m==\u001b[0m \u001b[0;36m0\u001b[0m\u001b[0;34m:\u001b[0m\u001b[0;34m\u001b[0m\u001b[0;34m\u001b[0m\u001b[0m\n\u001b[1;32m   1874\u001b[0m             \u001b[0;32mreturn\u001b[0m\u001b[0;34m\u001b[0m\u001b[0;34m\u001b[0m\u001b[0m\n",
            "\u001b[0;32m/usr/local/lib/python3.7/dist-packages/matplotlib/lines.py\u001b[0m in \u001b[0;36mget_path\u001b[0;34m(self)\u001b[0m\n\u001b[1;32m   1025\u001b[0m         \"\"\"\n\u001b[1;32m   1026\u001b[0m         \u001b[0;32mif\u001b[0m \u001b[0mself\u001b[0m\u001b[0;34m.\u001b[0m\u001b[0m_invalidy\u001b[0m \u001b[0;32mor\u001b[0m \u001b[0mself\u001b[0m\u001b[0;34m.\u001b[0m\u001b[0m_invalidx\u001b[0m\u001b[0;34m:\u001b[0m\u001b[0;34m\u001b[0m\u001b[0;34m\u001b[0m\u001b[0m\n\u001b[0;32m-> 1027\u001b[0;31m             \u001b[0mself\u001b[0m\u001b[0;34m.\u001b[0m\u001b[0mrecache\u001b[0m\u001b[0;34m(\u001b[0m\u001b[0;34m)\u001b[0m\u001b[0;34m\u001b[0m\u001b[0;34m\u001b[0m\u001b[0m\n\u001b[0m\u001b[1;32m   1028\u001b[0m         \u001b[0;32mreturn\u001b[0m \u001b[0mself\u001b[0m\u001b[0;34m.\u001b[0m\u001b[0m_path\u001b[0m\u001b[0;34m\u001b[0m\u001b[0;34m\u001b[0m\u001b[0m\n\u001b[1;32m   1029\u001b[0m \u001b[0;34m\u001b[0m\u001b[0m\n",
            "\u001b[0;32m/usr/local/lib/python3.7/dist-packages/matplotlib/lines.py\u001b[0m in \u001b[0;36mrecache\u001b[0;34m(self, always)\u001b[0m\n\u001b[1;32m    673\u001b[0m         \u001b[0;32mif\u001b[0m \u001b[0malways\u001b[0m \u001b[0;32mor\u001b[0m \u001b[0mself\u001b[0m\u001b[0;34m.\u001b[0m\u001b[0m_invalidy\u001b[0m\u001b[0;34m:\u001b[0m\u001b[0;34m\u001b[0m\u001b[0;34m\u001b[0m\u001b[0m\n\u001b[1;32m    674\u001b[0m             \u001b[0myconv\u001b[0m \u001b[0;34m=\u001b[0m \u001b[0mself\u001b[0m\u001b[0;34m.\u001b[0m\u001b[0mconvert_yunits\u001b[0m\u001b[0;34m(\u001b[0m\u001b[0mself\u001b[0m\u001b[0;34m.\u001b[0m\u001b[0m_yorig\u001b[0m\u001b[0;34m)\u001b[0m\u001b[0;34m\u001b[0m\u001b[0;34m\u001b[0m\u001b[0m\n\u001b[0;32m--> 675\u001b[0;31m             \u001b[0my\u001b[0m \u001b[0;34m=\u001b[0m \u001b[0m_to_unmasked_float_array\u001b[0m\u001b[0;34m(\u001b[0m\u001b[0myconv\u001b[0m\u001b[0;34m)\u001b[0m\u001b[0;34m.\u001b[0m\u001b[0mravel\u001b[0m\u001b[0;34m(\u001b[0m\u001b[0;34m)\u001b[0m\u001b[0;34m\u001b[0m\u001b[0;34m\u001b[0m\u001b[0m\n\u001b[0m\u001b[1;32m    676\u001b[0m         \u001b[0;32melse\u001b[0m\u001b[0;34m:\u001b[0m\u001b[0;34m\u001b[0m\u001b[0;34m\u001b[0m\u001b[0m\n\u001b[1;32m    677\u001b[0m             \u001b[0my\u001b[0m \u001b[0;34m=\u001b[0m \u001b[0mself\u001b[0m\u001b[0;34m.\u001b[0m\u001b[0m_y\u001b[0m\u001b[0;34m\u001b[0m\u001b[0;34m\u001b[0m\u001b[0m\n",
            "\u001b[0;32m/usr/local/lib/python3.7/dist-packages/matplotlib/cbook/__init__.py\u001b[0m in \u001b[0;36m_to_unmasked_float_array\u001b[0;34m(x)\u001b[0m\n\u001b[1;32m   1315\u001b[0m         \u001b[0;32mreturn\u001b[0m \u001b[0mnp\u001b[0m\u001b[0;34m.\u001b[0m\u001b[0mma\u001b[0m\u001b[0;34m.\u001b[0m\u001b[0masarray\u001b[0m\u001b[0;34m(\u001b[0m\u001b[0mx\u001b[0m\u001b[0;34m,\u001b[0m \u001b[0mfloat\u001b[0m\u001b[0;34m)\u001b[0m\u001b[0;34m.\u001b[0m\u001b[0mfilled\u001b[0m\u001b[0;34m(\u001b[0m\u001b[0mnp\u001b[0m\u001b[0;34m.\u001b[0m\u001b[0mnan\u001b[0m\u001b[0;34m)\u001b[0m\u001b[0;34m\u001b[0m\u001b[0;34m\u001b[0m\u001b[0m\n\u001b[1;32m   1316\u001b[0m     \u001b[0;32melse\u001b[0m\u001b[0;34m:\u001b[0m\u001b[0;34m\u001b[0m\u001b[0;34m\u001b[0m\u001b[0m\n\u001b[0;32m-> 1317\u001b[0;31m         \u001b[0;32mreturn\u001b[0m \u001b[0mnp\u001b[0m\u001b[0;34m.\u001b[0m\u001b[0masarray\u001b[0m\u001b[0;34m(\u001b[0m\u001b[0mx\u001b[0m\u001b[0;34m,\u001b[0m \u001b[0mfloat\u001b[0m\u001b[0;34m)\u001b[0m\u001b[0;34m\u001b[0m\u001b[0;34m\u001b[0m\u001b[0m\n\u001b[0m\u001b[1;32m   1318\u001b[0m \u001b[0;34m\u001b[0m\u001b[0m\n\u001b[1;32m   1319\u001b[0m \u001b[0;34m\u001b[0m\u001b[0m\n",
            "\u001b[0;32m/usr/local/lib/python3.7/dist-packages/torch/_tensor.py\u001b[0m in \u001b[0;36m__array__\u001b[0;34m(self, dtype)\u001b[0m\n\u001b[1;32m    732\u001b[0m             \u001b[0;32mreturn\u001b[0m \u001b[0mself\u001b[0m\u001b[0;34m.\u001b[0m\u001b[0mnumpy\u001b[0m\u001b[0;34m(\u001b[0m\u001b[0;34m)\u001b[0m\u001b[0;34m\u001b[0m\u001b[0;34m\u001b[0m\u001b[0m\n\u001b[1;32m    733\u001b[0m         \u001b[0;32melse\u001b[0m\u001b[0;34m:\u001b[0m\u001b[0;34m\u001b[0m\u001b[0;34m\u001b[0m\u001b[0m\n\u001b[0;32m--> 734\u001b[0;31m             \u001b[0;32mreturn\u001b[0m \u001b[0mself\u001b[0m\u001b[0;34m.\u001b[0m\u001b[0mnumpy\u001b[0m\u001b[0;34m(\u001b[0m\u001b[0;34m)\u001b[0m\u001b[0;34m.\u001b[0m\u001b[0mastype\u001b[0m\u001b[0;34m(\u001b[0m\u001b[0mdtype\u001b[0m\u001b[0;34m,\u001b[0m \u001b[0mcopy\u001b[0m\u001b[0;34m=\u001b[0m\u001b[0;32mFalse\u001b[0m\u001b[0;34m)\u001b[0m\u001b[0;34m\u001b[0m\u001b[0;34m\u001b[0m\u001b[0m\n\u001b[0m\u001b[1;32m    735\u001b[0m \u001b[0;34m\u001b[0m\u001b[0m\n\u001b[1;32m    736\u001b[0m     \u001b[0;31m# Wrap Numpy array again in a suitable tensor when done, to support e.g.\u001b[0m\u001b[0;34m\u001b[0m\u001b[0;34m\u001b[0m\u001b[0;34m\u001b[0m\u001b[0m\n",
            "\u001b[0;31mRuntimeError\u001b[0m: Can't call numpy() on Tensor that requires grad. Use tensor.detach().numpy() instead."
          ]
        },
        {
          "data": {
            "image/png": "[encoded data removed]",
            "text/plain": [
              "<Figure size 432x288 with 1 Axes>"
            ]
          },
          "metadata": {},
          "output_type": "display_data"
        }
      ],
      "source": [
        "#Plotting the real and fake score\n",
        "plt.plot(real_score, '-')\n",
        "plt.plot(fake_score, '-')\n",
        "plt.xlabel('epoch')\n",
        "plt.ylabel('score')\n",
        "plt.legend(['Real_score', 'Fake_score'])\n",
        "plt.title('Scores')"
      ]
    },
    {
      "cell_type": "code",
      "execution_count": null,
      "metadata": {
        "colab": {
          "background_save": true
        },
        "id": "eoNyZj1Dd8XJ"
      },
      "outputs": [],
      "source": [
        ""
      ]
    }
  ],
  "metadata": {
    "accelerator": "GPU",
    "colab": {
      "collapsed_sections": [],
      "name": "MNIST GAN.ipynb",
      "provenance": []
    },
    "gpuClass": "standard",
    "kernelspec": {
      "display_name": "Python 3",
      "name": "python3"
    },
    "language_info": {
      "name": "python"
    }
  },
  "nbformat": 4,
  "nbformat_minor": 0
}