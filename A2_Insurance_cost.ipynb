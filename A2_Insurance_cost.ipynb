{
  "cells": [
    {
      "cell_type": "markdown",
      "source": [
        "####Copyright https://jovian.ai/learn/deep-learning-with-pytorch-zero-to-gans"
      ],
      "metadata": {
        "id": "q81GOFQAjEHX"
      }
    },
    {
      "cell_type": "code",
      "execution_count": null,
      "metadata": {
        "id": "nOGbqaL4QwQl"
      },
      "outputs": [],
      "source": [
        "import torch\n",
        "import torchvision\n",
        "import numpy as  np \n",
        "import pandas as pd\n",
        "import torch.nn as nn\n",
        "import matplotlib.pyplot as plt\n",
        "import torch.nn.functional as F\n",
        "from torchvision.datasets.utils import download_url\n",
        "from torch.utils.data import DataLoader, TensorDataset, random_split"
      ]
    },
    {
      "cell_type": "code",
      "execution_count": null,
      "metadata": {
        "id": "uhEL920_Raz1"
      },
      "outputs": [],
      "source": [
        "project_name = '02-insurance-linear-regression'\n"
      ]
    },
    {
      "cell_type": "code",
      "execution_count": null,
      "metadata": {
        "colab": {
          "base_uri": "https://localhost:8080/"
        },
        "id": "0q229nXMRpDF",
        "outputId": "34abc477-2f42-468e-fb10-0673c0297496"
      },
      "outputs": [
        {
          "output_type": "stream",
          "name": "stdout",
          "text": [
            "Using downloaded and verified file: ./insurance.csv\n"
          ]
        }
      ],
      "source": [
        "DATASET_URL = \"https://gist.github.com/BirajCoder/5f068dfe759c1ea6bdfce9535acdb72d/raw/c84d84e3c80f93be67f6c069cbdc0195ec36acbd/insurance.csv\"\n",
        "DATA_FILENAME = \"insurance.csv\"\n",
        "download_url(DATASET_URL, '.')"
      ]
    },
    {
      "cell_type": "code",
      "execution_count": null,
      "metadata": {
        "colab": {
          "base_uri": "https://localhost:8080/",
          "height": 206
        },
        "id": "4DRWVOL-R3y-",
        "outputId": "dc186afb-7897-430a-c8ee-b8404ce923bb"
      },
      "outputs": [
        {
          "output_type": "execute_result",
          "data": {
            "text/plain": [
              "   age     sex     bmi  children smoker     region      charges\n",
              "0   19  female  27.900         0    yes  southwest  16884.92400\n",
              "1   18    male  33.770         1     no  southeast   1725.55230\n",
              "2   28    male  33.000         3     no  southeast   4449.46200\n",
              "3   33    male  22.705         0     no  northwest  21984.47061\n",
              "4   32    male  28.880         0     no  northwest   3866.85520"
            ],
            "text/html": [
              "\n",
              "  <div id=\"df-b344c28e-acb3-4380-8a4d-0be26f3d8747\">\n",
              "    <div class=\"colab-df-container\">\n",
              "      <div>\n",
              "<style scoped>\n",
              "    .dataframe tbody tr th:only-of-type {\n",
              "        vertical-align: middle;\n",
              "    }\n",
              "\n",
              "    .dataframe tbody tr th {\n",
              "        vertical-align: top;\n",
              "    }\n",
              "\n",
              "    .dataframe thead th {\n",
              "        text-align: right;\n",
              "    }\n",
              "</style>\n",
              "<table border=\"1\" class=\"dataframe\">\n",
              "  <thead>\n",
              "    <tr style=\"text-align: right;\">\n",
              "      <th></th>\n",
              "      <th>age</th>\n",
              "      <th>sex</th>\n",
              "      <th>bmi</th>\n",
              "      <th>children</th>\n",
              "      <th>smoker</th>\n",
              "      <th>region</th>\n",
              "      <th>charges</th>\n",
              "    </tr>\n",
              "  </thead>\n",
              "  <tbody>\n",
              "    <tr>\n",
              "      <th>0</th>\n",
              "      <td>19</td>\n",
              "      <td>female</td>\n",
              "      <td>27.900</td>\n",
              "      <td>0</td>\n",
              "      <td>yes</td>\n",
              "      <td>southwest</td>\n",
              "      <td>16884.92400</td>\n",
              "    </tr>\n",
              "    <tr>\n",
              "      <th>1</th>\n",
              "      <td>18</td>\n",
              "      <td>male</td>\n",
              "      <td>33.770</td>\n",
              "      <td>1</td>\n",
              "      <td>no</td>\n",
              "      <td>southeast</td>\n",
              "      <td>1725.55230</td>\n",
              "    </tr>\n",
              "    <tr>\n",
              "      <th>2</th>\n",
              "      <td>28</td>\n",
              "      <td>male</td>\n",
              "      <td>33.000</td>\n",
              "      <td>3</td>\n",
              "      <td>no</td>\n",
              "      <td>southeast</td>\n",
              "      <td>4449.46200</td>\n",
              "    </tr>\n",
              "    <tr>\n",
              "      <th>3</th>\n",
              "      <td>33</td>\n",
              "      <td>male</td>\n",
              "      <td>22.705</td>\n",
              "      <td>0</td>\n",
              "      <td>no</td>\n",
              "      <td>northwest</td>\n",
              "      <td>21984.47061</td>\n",
              "    </tr>\n",
              "    <tr>\n",
              "      <th>4</th>\n",
              "      <td>32</td>\n",
              "      <td>male</td>\n",
              "      <td>28.880</td>\n",
              "      <td>0</td>\n",
              "      <td>no</td>\n",
              "      <td>northwest</td>\n",
              "      <td>3866.85520</td>\n",
              "    </tr>\n",
              "  </tbody>\n",
              "</table>\n",
              "</div>\n",
              "      <button class=\"colab-df-convert\" onclick=\"convertToInteractive('df-b344c28e-acb3-4380-8a4d-0be26f3d8747')\"\n",
              "              title=\"Convert this dataframe to an interactive table.\"\n",
              "              style=\"display:none;\">\n",
              "        \n",
              "  <svg xmlns=\"http://www.w3.org/2000/svg\" height=\"24px\"viewBox=\"0 0 24 24\"\n",
              "       width=\"24px\">\n",
              "    <path d=\"M0 0h24v24H0V0z\" fill=\"none\"/>\n",
              "    <path d=\"M18.56 5.44l.94 2.06.94-2.06 2.06-.94-2.06-.94-.94-2.06-.94 2.06-2.06.94zm-11 1L8.5 8.5l.94-2.06 2.06-.94-2.06-.94L8.5 2.5l-.94 2.06-2.06.94zm10 10l.94 2.06.94-2.06 2.06-.94-2.06-.94-.94-2.06-.94 2.06-2.06.94z\"/><path d=\"M17.41 7.96l-1.37-1.37c-.4-.4-.92-.59-1.43-.59-.52 0-1.04.2-1.43.59L10.3 9.45l-7.72 7.72c-.78.78-.78 2.05 0 2.83L4 21.41c.39.39.9.59 1.41.59.51 0 1.02-.2 1.41-.59l7.78-7.78 2.81-2.81c.8-.78.8-2.07 0-2.86zM5.41 20L4 18.59l7.72-7.72 1.47 1.35L5.41 20z\"/>\n",
              "  </svg>\n",
              "      </button>\n",
              "      \n",
              "  <style>\n",
              "    .colab-df-container {\n",
              "      display:flex;\n",
              "      flex-wrap:wrap;\n",
              "      gap: 12px;\n",
              "    }\n",
              "\n",
              "    .colab-df-convert {\n",
              "      background-color: #E8F0FE;\n",
              "      border: none;\n",
              "      border-radius: 50%;\n",
              "      cursor: pointer;\n",
              "      display: none;\n",
              "      fill: #1967D2;\n",
              "      height: 32px;\n",
              "      padding: 0 0 0 0;\n",
              "      width: 32px;\n",
              "    }\n",
              "\n",
              "    .colab-df-convert:hover {\n",
              "      background-color: #E2EBFA;\n",
              "      box-shadow: 0px 1px 2px rgba(60, 64, 67, 0.3), 0px 1px 3px 1px rgba(60, 64, 67, 0.15);\n",
              "      fill: #174EA6;\n",
              "    }\n",
              "\n",
              "    [theme=dark] .colab-df-convert {\n",
              "      background-color: #3B4455;\n",
              "      fill: #D2E3FC;\n",
              "    }\n",
              "\n",
              "    [theme=dark] .colab-df-convert:hover {\n",
              "      background-color: #434B5C;\n",
              "      box-shadow: 0px 1px 3px 1px rgba(0, 0, 0, 0.15);\n",
              "      filter: drop-shadow(0px 1px 2px rgba(0, 0, 0, 0.3));\n",
              "      fill: #FFFFFF;\n",
              "    }\n",
              "  </style>\n",
              "\n",
              "      <script>\n",
              "        const buttonEl =\n",
              "          document.querySelector('#df-b344c28e-acb3-4380-8a4d-0be26f3d8747 button.colab-df-convert');\n",
              "        buttonEl.style.display =\n",
              "          google.colab.kernel.accessAllowed ? 'block' : 'none';\n",
              "\n",
              "        async function convertToInteractive(key) {\n",
              "          const element = document.querySelector('#df-b344c28e-acb3-4380-8a4d-0be26f3d8747');\n",
              "          const dataTable =\n",
              "            await google.colab.kernel.invokeFunction('convertToInteractive',\n",
              "                                                     [key], {});\n",
              "          if (!dataTable) return;\n",
              "\n",
              "          const docLinkHtml = 'Like what you see? Visit the ' +\n",
              "            '<a target=\"_blank\" href=https://colab.research.google.com/notebooks/data_table.ipynb>data table notebook</a>'\n",
              "            + ' to learn more about interactive tables.';\n",
              "          element.innerHTML = '';\n",
              "          dataTable['output_type'] = 'display_data';\n",
              "          await google.colab.output.renderOutput(dataTable, element);\n",
              "          const docLink = document.createElement('div');\n",
              "          docLink.innerHTML = docLinkHtml;\n",
              "          element.appendChild(docLink);\n",
              "        }\n",
              "      </script>\n",
              "    </div>\n",
              "  </div>\n",
              "  "
            ]
          },
          "metadata": {},
          "execution_count": 4
        }
      ],
      "source": [
        "dataframe_raw = pd.read_csv(DATA_FILENAME)\n",
        "dataframe_raw.head()"
      ]
    },
    {
      "cell_type": "code",
      "execution_count": null,
      "metadata": {
        "id": "S12VAOtmSLa8"
      },
      "outputs": [],
      "source": [
        "def customize_dataset(dataframe_raw, rand_str):\n",
        "    dataframe = dataframe_raw.copy(deep=True)\n",
        "    # drop some rows\n",
        "    dataframe = dataframe.sample(int(0.95*len(dataframe)), random_state=int(ord(rand_str[0])))\n",
        "    # scale input\n",
        "    dataframe.bmi = dataframe.bmi * ord(rand_str[1])/100.\n",
        "    # scale target\n",
        "    dataframe.charges = dataframe.charges * ord(rand_str[2])/100.\n",
        "    # drop column\n",
        "    if ord(rand_str[3]) % 2 == 1:\n",
        "        dataframe = dataframe.drop(['region'], axis=1)\n",
        "    return dataframe"
      ]
    },
    {
      "cell_type": "code",
      "execution_count": null,
      "metadata": {
        "id": "WghslqVGUCG3",
        "colab": {
          "base_uri": "https://localhost:8080/"
        },
        "outputId": "cd9f1282-8d7a-4a41-88d0-613108c87d65"
      },
      "outputs": [
        {
          "output_type": "execute_result",
          "data": {
            "text/plain": [
              "(1271, 6)"
            ]
          },
          "metadata": {},
          "execution_count": 40
        }
      ],
      "source": [
        "dataframe = customize_dataset(dataframe_raw, 'iqranoor')\n",
        "dataframe.shape"
      ]
    },
    {
      "cell_type": "code",
      "execution_count": null,
      "metadata": {
        "id": "w99DnXeWdQMC",
        "colab": {
          "base_uri": "https://localhost:8080/"
        },
        "outputId": "f07819b2-c8d3-4b33-b852-3f7eef40978f"
      },
      "outputs": [
        {
          "output_type": "execute_result",
          "data": {
            "text/plain": [
              "(['charges'], array(['age', 'sex', 'bmi', 'children', 'smoker'], dtype=object))"
            ]
          },
          "metadata": {},
          "execution_count": 7
        }
      ],
      "source": [
        "#Seprating input and target from dataframe\n",
        "inputs = dataframe.drop(['charges'], axis=1)\n",
        "#Get the column names of input data\n",
        "input_col_name = inputs.columns.values\n",
        "#Target data\n",
        "target = dataframe['charges']\n",
        "output_col_name = ['charges']\n",
        "output_col_name, input_col_name"
      ]
    },
    {
      "cell_type": "code",
      "source": [
        "#Seprating the catagorical and numerical columns\n",
        "numCols = inputs.select_dtypes(exclude = [\"object\"])\n",
        "catCols = inputs.select_dtypes(exclude=[np.number])"
      ],
      "metadata": {
        "id": "NZaWmBIrZzAG"
      },
      "execution_count": null,
      "outputs": []
    },
    {
      "cell_type": "code",
      "execution_count": null,
      "metadata": {
        "id": "sp68X5cPd69k"
      },
      "outputs": [],
      "source": [
        "# Preparing the data or converting catagorical to numbers\n",
        "def dataframe_to_array(dataframe):\n",
        "  dataframe1 = dataframe.copy(deep=True)\n",
        "  #converting non-numeric categorical columns to numbers\n",
        "  for col in catCols:\n",
        "    dataframe1[col] = dataframe1[col].astype('category').cat.codes \n",
        "  input_array = dataframe1[input_col_name].to_numpy()\n",
        "  target_array = dataframe1[output_col_name].to_numpy()\n",
        "  return input_array, target_array"
      ]
    },
    {
      "cell_type": "code",
      "source": [
        "#Getting numeric data in numpy array form\n",
        "input_array, targets_array = dataframe_to_array(dataframe)\n",
        "input_array = input_array.astype('float32')\n",
        "targets_array = targets_array.astype('float32')"
      ],
      "metadata": {
        "id": "8d3zVfBpUsmW"
      },
      "execution_count": null,
      "outputs": []
    },
    {
      "cell_type": "code",
      "source": [
        "input_array.dtype"
      ],
      "metadata": {
        "colab": {
          "base_uri": "https://localhost:8080/"
        },
        "id": "TtKmoTzCVulu",
        "outputId": "41982a4e-5875-4e64-a8c3-1841ce8dc22e"
      },
      "execution_count": null,
      "outputs": [
        {
          "output_type": "execute_result",
          "data": {
            "text/plain": [
              "dtype('float32')"
            ]
          },
          "metadata": {},
          "execution_count": 11
        }
      ]
    },
    {
      "cell_type": "code",
      "source": [
        "#Converting numpy array to tensors \n",
        "inputs = torch.from_numpy(input_array)\n",
        "targets = torch.from_numpy(targets_array)\n",
        "#inputs, targets"
      ],
      "metadata": {
        "id": "v0RJT1B8e3UH"
      },
      "execution_count": null,
      "outputs": []
    },
    {
      "cell_type": "code",
      "source": [
        "#Get the number of rows\n",
        "num_rows = inputs.shape[0]"
      ],
      "metadata": {
        "id": "5zbzHj7Jh0jl"
      },
      "execution_count": null,
      "outputs": []
    },
    {
      "cell_type": "code",
      "source": [
        "val_percent = 0.1\n",
        "val_size = int(num_rows * val_percent)\n",
        "train_size = num_rows - val_size\n",
        "train_size, val_size"
      ],
      "metadata": {
        "colab": {
          "base_uri": "https://localhost:8080/"
        },
        "id": "LY0rrZ03hlpe",
        "outputId": "f0d0cbd2-ff1b-4835-dd35-571db4802453"
      },
      "execution_count": null,
      "outputs": [
        {
          "output_type": "execute_result",
          "data": {
            "text/plain": [
              "(1144, 127)"
            ]
          },
          "metadata": {},
          "execution_count": 14
        }
      ]
    },
    {
      "cell_type": "code",
      "source": [
        "#preparing and spliting the datasets\n",
        "dataset = TensorDataset(inputs, targets)\n",
        "train_ds, val_ds = random_split(dataset,[train_size, val_size] )"
      ],
      "metadata": {
        "id": "I4jjg0hYVyl4"
      },
      "execution_count": null,
      "outputs": []
    },
    {
      "cell_type": "code",
      "source": [
        "#Converitng the data into batches\n",
        "batch_size = 256\n",
        "train_loader = DataLoader(train_ds, batch_size, shuffle=True)\n",
        "val_loader = DataLoader(val_ds, batch_size)"
      ],
      "metadata": {
        "id": "9kWLOi0ChV8t"
      },
      "execution_count": null,
      "outputs": []
    },
    {
      "cell_type": "code",
      "source": [
        "#Displaying the batch of data\n",
        "for xb, yb in val_loader:\n",
        "  #print('inputs:', xb)\n",
        "  #print('targets:', yb)\n",
        "  break"
      ],
      "metadata": {
        "id": "WTW_MO5NlZZh"
      },
      "execution_count": null,
      "outputs": []
    },
    {
      "cell_type": "markdown",
      "source": [
        "#Create Linear Regression Model"
      ],
      "metadata": {
        "id": "Xx5T0zKHl0Jw"
      }
    },
    {
      "cell_type": "code",
      "source": [
        "input_size = len(input_col_name)\n",
        "output_size = len(output_col_name)\n",
        "input_size, output_size"
      ],
      "metadata": {
        "colab": {
          "base_uri": "https://localhost:8080/"
        },
        "id": "8xsAP7thlqwE",
        "outputId": "2b4e8f1c-15ab-48dd-bec2-8f06b3e3b8d5"
      },
      "execution_count": null,
      "outputs": [
        {
          "output_type": "execute_result",
          "data": {
            "text/plain": [
              "(5, 1)"
            ]
          },
          "metadata": {},
          "execution_count": 44
        }
      ]
    },
    {
      "cell_type": "code",
      "source": [
        "class InsuranceModel(nn.Module):\n",
        "  def __init__(self):\n",
        "    super().__init__()\n",
        "    self.linear = nn.Linear(input_size, output_size)\n",
        "\n",
        "  def forward(self, xb):\n",
        "    out = self.linear(xb)\n",
        "    return out\n",
        "\n",
        "  def training_step(self, batch):\n",
        "    inputs, target = batch\n",
        "    out = self(inputs)\n",
        "    loss = F.mse_loss(out, target)\n",
        "    return loss\n",
        "\n",
        "  def validation_step(self, batch):\n",
        "    inputs, target = batch\n",
        "    out = self(inputs)\n",
        "    loss = F.mse_loss(out, target)\n",
        "    return {'val_loss': loss.detach()}\n",
        "\n",
        "  def validation_epoch_end(self, output):\n",
        "    batch_loss = [x['val_loss'] for x in output]\n",
        "    epoch_loss = torch.stack(batch_loss).mean()\n",
        "    return { 'val_loss': epoch_loss.item()}\n",
        "\n",
        "  def epoch_end(self, epoch, result, num_epochs):\n",
        "    if (epoch + 1) % 20 == 0 or epoch == num_epochs - 1:\n",
        "      print(\" Epoch [{}], val_loss: {:4f}\".format(epoch, result['val_loss']))\n",
        "\n",
        "model = InsuranceModel()"
      ],
      "metadata": {
        "id": "LfEddtpHmGXW"
      },
      "execution_count": null,
      "outputs": []
    },
    {
      "cell_type": "code",
      "source": [
        "def evaluate(model, val_loader):\n",
        "  outputs = [model.validation_step(batch) for batch in val_loader]\n",
        "  return model.validation_epoch_end(outputs)\n",
        "\n",
        "def fit(epochs, lr, model, train_loader, val_loader, opt_func=torch.optim.SGD):\n",
        "  history = []\n",
        "  optimizer = opt_func(model.parameters(), lr)\n",
        "  for epoch in range(epochs):\n",
        "    #training phasee\n",
        "    for batch in train_loader:\n",
        "      loss = model.training_step(batch)\n",
        "      loss.backward()\n",
        "      optimizer.step()\n",
        "      optimizer.zero_grad()\n",
        "\n",
        "    #validation step\n",
        "    result = evaluate(model, val_loader)\n",
        "    model.epoch_end(epoch, result, epochs)\n",
        "    history.append(result)\n",
        "  return history"
      ],
      "metadata": {
        "id": "PjQJ7l2oAGb0"
      },
      "execution_count": null,
      "outputs": []
    },
    {
      "cell_type": "code",
      "source": [
        "print(val_loader)"
      ],
      "metadata": {
        "colab": {
          "base_uri": "https://localhost:8080/"
        },
        "id": "l2XpiFF9S-fe",
        "outputId": "e4754336-0bd0-4247-afb9-a84e95c40b3c"
      },
      "execution_count": null,
      "outputs": [
        {
          "output_type": "stream",
          "name": "stdout",
          "text": [
            "<torch.utils.data.dataloader.DataLoader object at 0x7f5a50303810>\n"
          ]
        }
      ]
    },
    {
      "cell_type": "code",
      "source": [
        "evaluate(model, val_loader)"
      ],
      "metadata": {
        "colab": {
          "base_uri": "https://localhost:8080/"
        },
        "id": "jvEeWWA4nLfV",
        "outputId": "eddbd855-9c46-41c5-97c4-28b31977f36f"
      },
      "execution_count": null,
      "outputs": [
        {
          "output_type": "execute_result",
          "data": {
            "text/plain": [
              "{'val_loss': 431016192.0}"
            ]
          },
          "metadata": {},
          "execution_count": 48
        }
      ]
    },
    {
      "cell_type": "code",
      "source": [
        "#Fitting the model\n",
        "history = fit(1000, 1e-5, model, train_loader, val_loader)\n"
      ],
      "metadata": {
        "id": "cyiZSwLddoq5",
        "colab": {
          "base_uri": "https://localhost:8080/"
        },
        "outputId": "48cbdfd2-fe27-44d0-c50d-46872a9bf3c3"
      },
      "execution_count": null,
      "outputs": [
        {
          "output_type": "stream",
          "name": "stdout",
          "text": [
            " Epoch [19], val_loss: 166991952.000000\n",
            " Epoch [39], val_loss: 166930336.000000\n",
            " Epoch [59], val_loss: 167012800.000000\n",
            " Epoch [79], val_loss: 167038800.000000\n",
            " Epoch [99], val_loss: 167077840.000000\n",
            " Epoch [119], val_loss: 167072880.000000\n",
            " Epoch [139], val_loss: 167073072.000000\n",
            " Epoch [159], val_loss: 167000864.000000\n",
            " Epoch [179], val_loss: 166997152.000000\n",
            " Epoch [199], val_loss: 166973440.000000\n",
            " Epoch [219], val_loss: 166905280.000000\n",
            " Epoch [239], val_loss: 166852160.000000\n",
            " Epoch [259], val_loss: 166873040.000000\n",
            " Epoch [279], val_loss: 166792512.000000\n",
            " Epoch [299], val_loss: 166717808.000000\n",
            " Epoch [319], val_loss: 166681904.000000\n",
            " Epoch [339], val_loss: 166566560.000000\n",
            " Epoch [359], val_loss: 166528608.000000\n",
            " Epoch [379], val_loss: 166517920.000000\n",
            " Epoch [399], val_loss: 166399744.000000\n",
            " Epoch [419], val_loss: 166323664.000000\n",
            " Epoch [439], val_loss: 166274736.000000\n",
            " Epoch [459], val_loss: 166243840.000000\n",
            " Epoch [479], val_loss: 166140960.000000\n",
            " Epoch [499], val_loss: 166071440.000000\n",
            " Epoch [519], val_loss: 165982864.000000\n",
            " Epoch [539], val_loss: 165894752.000000\n",
            " Epoch [559], val_loss: 165905696.000000\n",
            " Epoch [579], val_loss: 165799856.000000\n",
            " Epoch [599], val_loss: 165758176.000000\n",
            " Epoch [619], val_loss: 165602384.000000\n",
            " Epoch [639], val_loss: 165584304.000000\n",
            " Epoch [659], val_loss: 165488960.000000\n",
            " Epoch [679], val_loss: 165430992.000000\n",
            " Epoch [699], val_loss: 165347824.000000\n",
            " Epoch [719], val_loss: 165216592.000000\n",
            " Epoch [739], val_loss: 165182112.000000\n",
            " Epoch [759], val_loss: 165135344.000000\n",
            " Epoch [779], val_loss: 165045456.000000\n",
            " Epoch [799], val_loss: 164962512.000000\n",
            " Epoch [819], val_loss: 164915808.000000\n",
            " Epoch [839], val_loss: 164912784.000000\n",
            " Epoch [859], val_loss: 164799520.000000\n",
            " Epoch [879], val_loss: 164757360.000000\n",
            " Epoch [899], val_loss: 164722000.000000\n",
            " Epoch [919], val_loss: 164567120.000000\n",
            " Epoch [939], val_loss: 164507376.000000\n",
            " Epoch [959], val_loss: 164411456.000000\n",
            " Epoch [979], val_loss: 164338048.000000\n",
            " Epoch [999], val_loss: 164241296.000000\n"
          ]
        }
      ]
    },
    {
      "cell_type": "code",
      "source": [
        ""
      ],
      "metadata": {
        "id": "7tSY-iLEEIVR"
      },
      "execution_count": null,
      "outputs": []
    }
  ],
  "metadata": {
    "colab": {
      "name": "A2 Insurance cost.ipynb",
      "provenance": [],
      "collapsed_sections": []
    },
    "kernelspec": {
      "display_name": "Python 3",
      "name": "python3"
    },
    "language_info": {
      "name": "python"
    }
  },
  "nbformat": 4,
  "nbformat_minor": 0
}